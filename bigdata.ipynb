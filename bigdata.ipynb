{
 "cells": [
  {
   "cell_type": "code",
   "execution_count": 1,
   "metadata": {
    "id": "oTImwMnAbOSH"
   },
   "outputs": [],
   "source": [
    "from pyspark import SparkContext, SparkConf\n",
    "\n",
    "\n",
    "from pyspark.sql.types import StringType\n",
    "from pyspark.sql import SparkSession\n",
    "\n",
    "from pyspark.ml.feature import RegexTokenizer, StopWordsRemover, CountVectorizer\n",
    "from pyspark.ml.classification import RandomForestClassifier\n",
    "\n",
    "from pyspark.ml.feature import HashingTF, IDF, Tokenizer \n",
    "from pyspark.ml import Pipeline\n",
    "\n",
    "import numpy as np"
   ]
  },
  {
   "cell_type": "code",
   "execution_count": 2,
   "metadata": {},
   "outputs": [
    {
     "name": "stdout",
     "output_type": "stream",
     "text": [
      "Collecting pymongo\n",
      "\u001b[?25l  Downloading https://files.pythonhosted.org/packages/5a/ae/657a4c1950704d0c2c5f1c044824c2ccf0cd5fd5b853d9975e0d585041dd/pymongo-3.11.2-cp37-cp37m-manylinux1_x86_64.whl (494kB)\n",
      "\u001b[K    100% |████████████████████████████████| 501kB 854kB/s ta 0:00:01\n",
      "\u001b[?25hInstalling collected packages: pymongo\n",
      "Successfully installed pymongo-3.11.2\n"
     ]
    }
   ],
   "source": [
    "!pip3 install pymongo"
   ]
  },
  {
   "cell_type": "code",
   "execution_count": 3,
   "metadata": {
    "id": "EWdI_CCMcX2X"
   },
   "outputs": [],
   "source": [
    "# create_spark_session\n",
    "conf = SparkConf()\n",
    "conf.setAppName('amazon detect fake comment')\n",
    "conf.setMaster(\"spark://spark-master:7077\")\n",
    "sc = SparkContext.getOrCreate(conf=conf)\n",
    "\n",
    "spark = SparkSession(sc)"
   ]
  },
  {
   "cell_type": "code",
   "execution_count": 4,
   "metadata": {
    "id": "Oh08xT2nUMg0"
   },
   "outputs": [],
   "source": [
    "import os\n",
    "import pandas as pd\n",
    "import pymongo"
   ]
  },
  {
   "cell_type": "code",
   "execution_count": 104,
   "metadata": {},
   "outputs": [],
   "source": [
    "def readData():\n",
    "    mongo_uri = os.environ.get('MONGO_URI',\"mongodb://mongo:27017/\")\n",
    "    myclient = pymongo.MongoClient(mongo_uri)\n",
    "    mydb = myclient[\"big-data\"]\n",
    "    mycol = mydb[\"reviews\"]\n",
    "    data = mycol.find()\n",
    "    df =  pd.DataFrame(list(data))\n",
    "    return df"
   ]
  },
  {
   "cell_type": "code",
   "execution_count": 105,
   "metadata": {
    "id": "1JdoEcGeUPuk"
   },
   "outputs": [],
   "source": [
    "df = readData()"
   ]
  },
  {
   "cell_type": "code",
   "execution_count": 106,
   "metadata": {},
   "outputs": [
    {
     "data": {
      "text/html": [
       "<div>\n",
       "<style scoped>\n",
       "    .dataframe tbody tr th:only-of-type {\n",
       "        vertical-align: middle;\n",
       "    }\n",
       "\n",
       "    .dataframe tbody tr th {\n",
       "        vertical-align: top;\n",
       "    }\n",
       "\n",
       "    .dataframe thead th {\n",
       "        text-align: right;\n",
       "    }\n",
       "</style>\n",
       "<table border=\"1\" class=\"dataframe\">\n",
       "  <thead>\n",
       "    <tr style=\"text-align: right;\">\n",
       "      <th></th>\n",
       "      <th>_id</th>\n",
       "      <th>has_image</th>\n",
       "      <th>num_helpful</th>\n",
       "      <th>review_content</th>\n",
       "      <th>review_rating</th>\n",
       "      <th>review_title</th>\n",
       "      <th>reviewer_avg_rating</th>\n",
       "      <th>reviewer_avg_word_count</th>\n",
       "      <th>reviewer_num_review</th>\n",
       "      <th>reviewer_num_verified</th>\n",
       "      <th>reviewer_ranking</th>\n",
       "      <th>reviewer_trust</th>\n",
       "      <th>trust</th>\n",
       "      <th>verified_purchase</th>\n",
       "      <th>review_id</th>\n",
       "      <th>product_id</th>\n",
       "      <th>reviewer_id</th>\n",
       "    </tr>\n",
       "  </thead>\n",
       "  <tbody>\n",
       "    <tr>\n",
       "      <th>0</th>\n",
       "      <td>5fdacc38fd213b96509bf0bb</td>\n",
       "      <td>[False]</td>\n",
       "      <td>0</td>\n",
       "      <td>body scrub</td>\n",
       "      <td>5</td>\n",
       "      <td>Great</td>\n",
       "      <td>4.3</td>\n",
       "      <td>8.7</td>\n",
       "      <td>21</td>\n",
       "      <td>21</td>\n",
       "      <td>4119896</td>\n",
       "      <td>71</td>\n",
       "      <td>100</td>\n",
       "      <td>[True]</td>\n",
       "      <td>NaN</td>\n",
       "      <td>NaN</td>\n",
       "      <td>NaN</td>\n",
       "    </tr>\n",
       "    <tr>\n",
       "      <th>1</th>\n",
       "      <td>5fdacc38fd213b96509bf0bc</td>\n",
       "      <td>[False]</td>\n",
       "      <td>0</td>\n",
       "      <td>good product!</td>\n",
       "      <td>5</td>\n",
       "      <td>Five Stars</td>\n",
       "      <td>5</td>\n",
       "      <td>2.3</td>\n",
       "      <td>14</td>\n",
       "      <td>14</td>\n",
       "      <td>22504054</td>\n",
       "      <td>33</td>\n",
       "      <td>0</td>\n",
       "      <td>[True]</td>\n",
       "      <td>NaN</td>\n",
       "      <td>NaN</td>\n",
       "      <td>NaN</td>\n",
       "    </tr>\n",
       "    <tr>\n",
       "      <th>2</th>\n",
       "      <td>5fdacc38fd213b96509bf0bd</td>\n",
       "      <td>[False]</td>\n",
       "      <td>0</td>\n",
       "      <td>Never write reviews , but this stuff is amazin...</td>\n",
       "      <td>5</td>\n",
       "      <td>Amazing !!!</td>\n",
       "      <td>5</td>\n",
       "      <td>13</td>\n",
       "      <td>2</td>\n",
       "      <td>0</td>\n",
       "      <td>19442408</td>\n",
       "      <td>0</td>\n",
       "      <td>0</td>\n",
       "      <td>[False]</td>\n",
       "      <td>NaN</td>\n",
       "      <td>NaN</td>\n",
       "      <td>NaN</td>\n",
       "    </tr>\n",
       "    <tr>\n",
       "      <th>3</th>\n",
       "      <td>5fdacc38fd213b96509bf0be</td>\n",
       "      <td>[False]</td>\n",
       "      <td>0</td>\n",
       "      <td>You may see great results for a while, but tru...</td>\n",
       "      <td>1</td>\n",
       "      <td>Witch hazel is awful for your skin no matter what</td>\n",
       "      <td>3</td>\n",
       "      <td>27</td>\n",
       "      <td>2</td>\n",
       "      <td>1</td>\n",
       "      <td>63277988</td>\n",
       "      <td>29</td>\n",
       "      <td>0</td>\n",
       "      <td>[False]</td>\n",
       "      <td>NaN</td>\n",
       "      <td>NaN</td>\n",
       "      <td>NaN</td>\n",
       "    </tr>\n",
       "    <tr>\n",
       "      <th>4</th>\n",
       "      <td>5fdacc38fd213b96509bf0bf</td>\n",
       "      <td>[True]</td>\n",
       "      <td>0</td>\n",
       "      <td>Me fascina como me deja la piel</td>\n",
       "      <td>5</td>\n",
       "      <td>Muy rico olor que queda en la piel</td>\n",
       "      <td>5</td>\n",
       "      <td>0</td>\n",
       "      <td>1</td>\n",
       "      <td>1</td>\n",
       "      <td>63277988</td>\n",
       "      <td>100</td>\n",
       "      <td>100</td>\n",
       "      <td>[True]</td>\n",
       "      <td>NaN</td>\n",
       "      <td>NaN</td>\n",
       "      <td>NaN</td>\n",
       "    </tr>\n",
       "  </tbody>\n",
       "</table>\n",
       "</div>"
      ],
      "text/plain": [
       "                        _id has_image num_helpful  \\\n",
       "0  5fdacc38fd213b96509bf0bb   [False]           0   \n",
       "1  5fdacc38fd213b96509bf0bc   [False]           0   \n",
       "2  5fdacc38fd213b96509bf0bd   [False]           0   \n",
       "3  5fdacc38fd213b96509bf0be   [False]           0   \n",
       "4  5fdacc38fd213b96509bf0bf    [True]           0   \n",
       "\n",
       "                                      review_content review_rating  \\\n",
       "0                                         body scrub             5   \n",
       "1                                      good product!             5   \n",
       "2  Never write reviews , but this stuff is amazin...             5   \n",
       "3  You may see great results for a while, but tru...             1   \n",
       "4                    Me fascina como me deja la piel             5   \n",
       "\n",
       "                                        review_title reviewer_avg_rating  \\\n",
       "0                                              Great                 4.3   \n",
       "1                                         Five Stars                   5   \n",
       "2                                        Amazing !!!                   5   \n",
       "3  Witch hazel is awful for your skin no matter what                   3   \n",
       "4                 Muy rico olor que queda en la piel                   5   \n",
       "\n",
       "  reviewer_avg_word_count reviewer_num_review reviewer_num_verified  \\\n",
       "0                     8.7                  21                    21   \n",
       "1                     2.3                  14                    14   \n",
       "2                      13                   2                     0   \n",
       "3                      27                   2                     1   \n",
       "4                       0                   1                     1   \n",
       "\n",
       "  reviewer_ranking reviewer_trust trust verified_purchase review_id  \\\n",
       "0          4119896             71   100            [True]       NaN   \n",
       "1         22504054             33     0            [True]       NaN   \n",
       "2         19442408              0     0           [False]       NaN   \n",
       "3         63277988             29     0           [False]       NaN   \n",
       "4         63277988            100   100            [True]       NaN   \n",
       "\n",
       "  product_id reviewer_id  \n",
       "0        NaN         NaN  \n",
       "1        NaN         NaN  \n",
       "2        NaN         NaN  \n",
       "3        NaN         NaN  \n",
       "4        NaN         NaN  "
      ]
     },
     "execution_count": 106,
     "metadata": {},
     "output_type": "execute_result"
    }
   ],
   "source": [
    "df.head()"
   ]
  },
  {
   "cell_type": "code",
   "execution_count": 107,
   "metadata": {},
   "outputs": [],
   "source": [
    "df = df.drop(columns = ['review_id', 'product_id', 'reviewer_id'])"
   ]
  },
  {
   "cell_type": "code",
   "execution_count": 108,
   "metadata": {},
   "outputs": [
    {
     "data": {
      "text/html": [
       "<div>\n",
       "<style scoped>\n",
       "    .dataframe tbody tr th:only-of-type {\n",
       "        vertical-align: middle;\n",
       "    }\n",
       "\n",
       "    .dataframe tbody tr th {\n",
       "        vertical-align: top;\n",
       "    }\n",
       "\n",
       "    .dataframe thead th {\n",
       "        text-align: right;\n",
       "    }\n",
       "</style>\n",
       "<table border=\"1\" class=\"dataframe\">\n",
       "  <thead>\n",
       "    <tr style=\"text-align: right;\">\n",
       "      <th></th>\n",
       "      <th>_id</th>\n",
       "      <th>has_image</th>\n",
       "      <th>num_helpful</th>\n",
       "      <th>review_content</th>\n",
       "      <th>review_rating</th>\n",
       "      <th>review_title</th>\n",
       "      <th>reviewer_avg_rating</th>\n",
       "      <th>reviewer_avg_word_count</th>\n",
       "      <th>reviewer_num_review</th>\n",
       "      <th>reviewer_num_verified</th>\n",
       "      <th>reviewer_ranking</th>\n",
       "      <th>reviewer_trust</th>\n",
       "      <th>trust</th>\n",
       "      <th>verified_purchase</th>\n",
       "    </tr>\n",
       "  </thead>\n",
       "  <tbody>\n",
       "    <tr>\n",
       "      <th>0</th>\n",
       "      <td>5fdacc38fd213b96509bf0bb</td>\n",
       "      <td>[False]</td>\n",
       "      <td>0</td>\n",
       "      <td>body scrub</td>\n",
       "      <td>5</td>\n",
       "      <td>Great</td>\n",
       "      <td>4.3</td>\n",
       "      <td>8.7</td>\n",
       "      <td>21</td>\n",
       "      <td>21</td>\n",
       "      <td>4119896</td>\n",
       "      <td>71</td>\n",
       "      <td>100</td>\n",
       "      <td>[True]</td>\n",
       "    </tr>\n",
       "    <tr>\n",
       "      <th>1</th>\n",
       "      <td>5fdacc38fd213b96509bf0bc</td>\n",
       "      <td>[False]</td>\n",
       "      <td>0</td>\n",
       "      <td>good product!</td>\n",
       "      <td>5</td>\n",
       "      <td>Five Stars</td>\n",
       "      <td>5</td>\n",
       "      <td>2.3</td>\n",
       "      <td>14</td>\n",
       "      <td>14</td>\n",
       "      <td>22504054</td>\n",
       "      <td>33</td>\n",
       "      <td>0</td>\n",
       "      <td>[True]</td>\n",
       "    </tr>\n",
       "    <tr>\n",
       "      <th>2</th>\n",
       "      <td>5fdacc38fd213b96509bf0bd</td>\n",
       "      <td>[False]</td>\n",
       "      <td>0</td>\n",
       "      <td>Never write reviews , but this stuff is amazin...</td>\n",
       "      <td>5</td>\n",
       "      <td>Amazing !!!</td>\n",
       "      <td>5</td>\n",
       "      <td>13</td>\n",
       "      <td>2</td>\n",
       "      <td>0</td>\n",
       "      <td>19442408</td>\n",
       "      <td>0</td>\n",
       "      <td>0</td>\n",
       "      <td>[False]</td>\n",
       "    </tr>\n",
       "    <tr>\n",
       "      <th>3</th>\n",
       "      <td>5fdacc38fd213b96509bf0be</td>\n",
       "      <td>[False]</td>\n",
       "      <td>0</td>\n",
       "      <td>You may see great results for a while, but tru...</td>\n",
       "      <td>1</td>\n",
       "      <td>Witch hazel is awful for your skin no matter what</td>\n",
       "      <td>3</td>\n",
       "      <td>27</td>\n",
       "      <td>2</td>\n",
       "      <td>1</td>\n",
       "      <td>63277988</td>\n",
       "      <td>29</td>\n",
       "      <td>0</td>\n",
       "      <td>[False]</td>\n",
       "    </tr>\n",
       "    <tr>\n",
       "      <th>4</th>\n",
       "      <td>5fdacc38fd213b96509bf0bf</td>\n",
       "      <td>[True]</td>\n",
       "      <td>0</td>\n",
       "      <td>Me fascina como me deja la piel</td>\n",
       "      <td>5</td>\n",
       "      <td>Muy rico olor que queda en la piel</td>\n",
       "      <td>5</td>\n",
       "      <td>0</td>\n",
       "      <td>1</td>\n",
       "      <td>1</td>\n",
       "      <td>63277988</td>\n",
       "      <td>100</td>\n",
       "      <td>100</td>\n",
       "      <td>[True]</td>\n",
       "    </tr>\n",
       "  </tbody>\n",
       "</table>\n",
       "</div>"
      ],
      "text/plain": [
       "                        _id has_image num_helpful  \\\n",
       "0  5fdacc38fd213b96509bf0bb   [False]           0   \n",
       "1  5fdacc38fd213b96509bf0bc   [False]           0   \n",
       "2  5fdacc38fd213b96509bf0bd   [False]           0   \n",
       "3  5fdacc38fd213b96509bf0be   [False]           0   \n",
       "4  5fdacc38fd213b96509bf0bf    [True]           0   \n",
       "\n",
       "                                      review_content review_rating  \\\n",
       "0                                         body scrub             5   \n",
       "1                                      good product!             5   \n",
       "2  Never write reviews , but this stuff is amazin...             5   \n",
       "3  You may see great results for a while, but tru...             1   \n",
       "4                    Me fascina como me deja la piel             5   \n",
       "\n",
       "                                        review_title reviewer_avg_rating  \\\n",
       "0                                              Great                 4.3   \n",
       "1                                         Five Stars                   5   \n",
       "2                                        Amazing !!!                   5   \n",
       "3  Witch hazel is awful for your skin no matter what                   3   \n",
       "4                 Muy rico olor que queda en la piel                   5   \n",
       "\n",
       "  reviewer_avg_word_count reviewer_num_review reviewer_num_verified  \\\n",
       "0                     8.7                  21                    21   \n",
       "1                     2.3                  14                    14   \n",
       "2                      13                   2                     0   \n",
       "3                      27                   2                     1   \n",
       "4                       0                   1                     1   \n",
       "\n",
       "  reviewer_ranking reviewer_trust trust verified_purchase  \n",
       "0          4119896             71   100            [True]  \n",
       "1         22504054             33     0            [True]  \n",
       "2         19442408              0     0           [False]  \n",
       "3         63277988             29     0           [False]  \n",
       "4         63277988            100   100            [True]  "
      ]
     },
     "execution_count": 108,
     "metadata": {},
     "output_type": "execute_result"
    }
   ],
   "source": [
    "df.head()"
   ]
  },
  {
   "cell_type": "code",
   "execution_count": 109,
   "metadata": {},
   "outputs": [],
   "source": [
    "df = df.dropna()"
   ]
  },
  {
   "cell_type": "code",
   "execution_count": 110,
   "metadata": {},
   "outputs": [
    {
     "data": {
      "text/html": [
       "<div>\n",
       "<style scoped>\n",
       "    .dataframe tbody tr th:only-of-type {\n",
       "        vertical-align: middle;\n",
       "    }\n",
       "\n",
       "    .dataframe tbody tr th {\n",
       "        vertical-align: top;\n",
       "    }\n",
       "\n",
       "    .dataframe thead th {\n",
       "        text-align: right;\n",
       "    }\n",
       "</style>\n",
       "<table border=\"1\" class=\"dataframe\">\n",
       "  <thead>\n",
       "    <tr style=\"text-align: right;\">\n",
       "      <th></th>\n",
       "      <th>_id</th>\n",
       "      <th>has_image</th>\n",
       "      <th>num_helpful</th>\n",
       "      <th>review_content</th>\n",
       "      <th>review_rating</th>\n",
       "      <th>review_title</th>\n",
       "      <th>reviewer_avg_rating</th>\n",
       "      <th>reviewer_avg_word_count</th>\n",
       "      <th>reviewer_num_review</th>\n",
       "      <th>reviewer_num_verified</th>\n",
       "      <th>reviewer_ranking</th>\n",
       "      <th>reviewer_trust</th>\n",
       "      <th>trust</th>\n",
       "      <th>verified_purchase</th>\n",
       "    </tr>\n",
       "  </thead>\n",
       "  <tbody>\n",
       "    <tr>\n",
       "      <th>0</th>\n",
       "      <td>5fdacc38fd213b96509bf0bb</td>\n",
       "      <td>[False]</td>\n",
       "      <td>0</td>\n",
       "      <td>body scrub</td>\n",
       "      <td>5</td>\n",
       "      <td>Great</td>\n",
       "      <td>4.3</td>\n",
       "      <td>8.7</td>\n",
       "      <td>21</td>\n",
       "      <td>21</td>\n",
       "      <td>4119896</td>\n",
       "      <td>71</td>\n",
       "      <td>100</td>\n",
       "      <td>[True]</td>\n",
       "    </tr>\n",
       "    <tr>\n",
       "      <th>1</th>\n",
       "      <td>5fdacc38fd213b96509bf0bc</td>\n",
       "      <td>[False]</td>\n",
       "      <td>0</td>\n",
       "      <td>good product!</td>\n",
       "      <td>5</td>\n",
       "      <td>Five Stars</td>\n",
       "      <td>5</td>\n",
       "      <td>2.3</td>\n",
       "      <td>14</td>\n",
       "      <td>14</td>\n",
       "      <td>22504054</td>\n",
       "      <td>33</td>\n",
       "      <td>0</td>\n",
       "      <td>[True]</td>\n",
       "    </tr>\n",
       "    <tr>\n",
       "      <th>2</th>\n",
       "      <td>5fdacc38fd213b96509bf0bd</td>\n",
       "      <td>[False]</td>\n",
       "      <td>0</td>\n",
       "      <td>Never write reviews , but this stuff is amazin...</td>\n",
       "      <td>5</td>\n",
       "      <td>Amazing !!!</td>\n",
       "      <td>5</td>\n",
       "      <td>13</td>\n",
       "      <td>2</td>\n",
       "      <td>0</td>\n",
       "      <td>19442408</td>\n",
       "      <td>0</td>\n",
       "      <td>0</td>\n",
       "      <td>[False]</td>\n",
       "    </tr>\n",
       "    <tr>\n",
       "      <th>3</th>\n",
       "      <td>5fdacc38fd213b96509bf0be</td>\n",
       "      <td>[False]</td>\n",
       "      <td>0</td>\n",
       "      <td>You may see great results for a while, but tru...</td>\n",
       "      <td>1</td>\n",
       "      <td>Witch hazel is awful for your skin no matter what</td>\n",
       "      <td>3</td>\n",
       "      <td>27</td>\n",
       "      <td>2</td>\n",
       "      <td>1</td>\n",
       "      <td>63277988</td>\n",
       "      <td>29</td>\n",
       "      <td>0</td>\n",
       "      <td>[False]</td>\n",
       "    </tr>\n",
       "    <tr>\n",
       "      <th>4</th>\n",
       "      <td>5fdacc38fd213b96509bf0bf</td>\n",
       "      <td>[True]</td>\n",
       "      <td>0</td>\n",
       "      <td>Me fascina como me deja la piel</td>\n",
       "      <td>5</td>\n",
       "      <td>Muy rico olor que queda en la piel</td>\n",
       "      <td>5</td>\n",
       "      <td>0</td>\n",
       "      <td>1</td>\n",
       "      <td>1</td>\n",
       "      <td>63277988</td>\n",
       "      <td>100</td>\n",
       "      <td>100</td>\n",
       "      <td>[True]</td>\n",
       "    </tr>\n",
       "  </tbody>\n",
       "</table>\n",
       "</div>"
      ],
      "text/plain": [
       "                        _id has_image num_helpful  \\\n",
       "0  5fdacc38fd213b96509bf0bb   [False]           0   \n",
       "1  5fdacc38fd213b96509bf0bc   [False]           0   \n",
       "2  5fdacc38fd213b96509bf0bd   [False]           0   \n",
       "3  5fdacc38fd213b96509bf0be   [False]           0   \n",
       "4  5fdacc38fd213b96509bf0bf    [True]           0   \n",
       "\n",
       "                                      review_content review_rating  \\\n",
       "0                                         body scrub             5   \n",
       "1                                      good product!             5   \n",
       "2  Never write reviews , but this stuff is amazin...             5   \n",
       "3  You may see great results for a while, but tru...             1   \n",
       "4                    Me fascina como me deja la piel             5   \n",
       "\n",
       "                                        review_title reviewer_avg_rating  \\\n",
       "0                                              Great                 4.3   \n",
       "1                                         Five Stars                   5   \n",
       "2                                        Amazing !!!                   5   \n",
       "3  Witch hazel is awful for your skin no matter what                   3   \n",
       "4                 Muy rico olor que queda en la piel                   5   \n",
       "\n",
       "  reviewer_avg_word_count reviewer_num_review reviewer_num_verified  \\\n",
       "0                     8.7                  21                    21   \n",
       "1                     2.3                  14                    14   \n",
       "2                      13                   2                     0   \n",
       "3                      27                   2                     1   \n",
       "4                       0                   1                     1   \n",
       "\n",
       "  reviewer_ranking reviewer_trust trust verified_purchase  \n",
       "0          4119896             71   100            [True]  \n",
       "1         22504054             33     0            [True]  \n",
       "2         19442408              0     0           [False]  \n",
       "3         63277988             29     0           [False]  \n",
       "4         63277988            100   100            [True]  "
      ]
     },
     "execution_count": 110,
     "metadata": {},
     "output_type": "execute_result"
    }
   ],
   "source": [
    "df.head()"
   ]
  },
  {
   "cell_type": "code",
   "execution_count": 111,
   "metadata": {},
   "outputs": [],
   "source": [
    "df = df.reset_index(drop=True)"
   ]
  },
  {
   "cell_type": "code",
   "execution_count": 112,
   "metadata": {
    "id": "eNeo9RZhZxdi"
   },
   "outputs": [
    {
     "name": "stdout",
     "output_type": "stream",
     "text": [
      "9051\n"
     ]
    }
   ],
   "source": [
    "for i in range(len(df['review_content'])):\n",
    "  a = df.at[i, 'review_content']\n",
    "  if type(a) != str:\n",
    "    df = df.drop(index=i)\n",
    "    print(i)"
   ]
  },
  {
   "cell_type": "code",
   "execution_count": 113,
   "metadata": {},
   "outputs": [],
   "source": [
    "df = df.reset_index(drop=True)"
   ]
  },
  {
   "cell_type": "code",
   "execution_count": 114,
   "metadata": {},
   "outputs": [],
   "source": [
    "df = df.drop(columns = ['_id'])"
   ]
  },
  {
   "cell_type": "code",
   "execution_count": 115,
   "metadata": {},
   "outputs": [
    {
     "data": {
      "text/html": [
       "<div>\n",
       "<style scoped>\n",
       "    .dataframe tbody tr th:only-of-type {\n",
       "        vertical-align: middle;\n",
       "    }\n",
       "\n",
       "    .dataframe tbody tr th {\n",
       "        vertical-align: top;\n",
       "    }\n",
       "\n",
       "    .dataframe thead th {\n",
       "        text-align: right;\n",
       "    }\n",
       "</style>\n",
       "<table border=\"1\" class=\"dataframe\">\n",
       "  <thead>\n",
       "    <tr style=\"text-align: right;\">\n",
       "      <th></th>\n",
       "      <th>has_image</th>\n",
       "      <th>num_helpful</th>\n",
       "      <th>review_content</th>\n",
       "      <th>review_rating</th>\n",
       "      <th>review_title</th>\n",
       "      <th>reviewer_avg_rating</th>\n",
       "      <th>reviewer_avg_word_count</th>\n",
       "      <th>reviewer_num_review</th>\n",
       "      <th>reviewer_num_verified</th>\n",
       "      <th>reviewer_ranking</th>\n",
       "      <th>reviewer_trust</th>\n",
       "      <th>trust</th>\n",
       "      <th>verified_purchase</th>\n",
       "    </tr>\n",
       "  </thead>\n",
       "  <tbody>\n",
       "    <tr>\n",
       "      <th>0</th>\n",
       "      <td>[False]</td>\n",
       "      <td>0</td>\n",
       "      <td>body scrub</td>\n",
       "      <td>5</td>\n",
       "      <td>Great</td>\n",
       "      <td>4.3</td>\n",
       "      <td>8.7</td>\n",
       "      <td>21</td>\n",
       "      <td>21</td>\n",
       "      <td>4119896</td>\n",
       "      <td>71</td>\n",
       "      <td>100</td>\n",
       "      <td>[True]</td>\n",
       "    </tr>\n",
       "    <tr>\n",
       "      <th>1</th>\n",
       "      <td>[False]</td>\n",
       "      <td>0</td>\n",
       "      <td>good product!</td>\n",
       "      <td>5</td>\n",
       "      <td>Five Stars</td>\n",
       "      <td>5</td>\n",
       "      <td>2.3</td>\n",
       "      <td>14</td>\n",
       "      <td>14</td>\n",
       "      <td>22504054</td>\n",
       "      <td>33</td>\n",
       "      <td>0</td>\n",
       "      <td>[True]</td>\n",
       "    </tr>\n",
       "    <tr>\n",
       "      <th>2</th>\n",
       "      <td>[False]</td>\n",
       "      <td>0</td>\n",
       "      <td>Never write reviews , but this stuff is amazin...</td>\n",
       "      <td>5</td>\n",
       "      <td>Amazing !!!</td>\n",
       "      <td>5</td>\n",
       "      <td>13</td>\n",
       "      <td>2</td>\n",
       "      <td>0</td>\n",
       "      <td>19442408</td>\n",
       "      <td>0</td>\n",
       "      <td>0</td>\n",
       "      <td>[False]</td>\n",
       "    </tr>\n",
       "    <tr>\n",
       "      <th>3</th>\n",
       "      <td>[False]</td>\n",
       "      <td>0</td>\n",
       "      <td>You may see great results for a while, but tru...</td>\n",
       "      <td>1</td>\n",
       "      <td>Witch hazel is awful for your skin no matter what</td>\n",
       "      <td>3</td>\n",
       "      <td>27</td>\n",
       "      <td>2</td>\n",
       "      <td>1</td>\n",
       "      <td>63277988</td>\n",
       "      <td>29</td>\n",
       "      <td>0</td>\n",
       "      <td>[False]</td>\n",
       "    </tr>\n",
       "    <tr>\n",
       "      <th>4</th>\n",
       "      <td>[True]</td>\n",
       "      <td>0</td>\n",
       "      <td>Me fascina como me deja la piel</td>\n",
       "      <td>5</td>\n",
       "      <td>Muy rico olor que queda en la piel</td>\n",
       "      <td>5</td>\n",
       "      <td>0</td>\n",
       "      <td>1</td>\n",
       "      <td>1</td>\n",
       "      <td>63277988</td>\n",
       "      <td>100</td>\n",
       "      <td>100</td>\n",
       "      <td>[True]</td>\n",
       "    </tr>\n",
       "    <tr>\n",
       "      <th>...</th>\n",
       "      <td>...</td>\n",
       "      <td>...</td>\n",
       "      <td>...</td>\n",
       "      <td>...</td>\n",
       "      <td>...</td>\n",
       "      <td>...</td>\n",
       "      <td>...</td>\n",
       "      <td>...</td>\n",
       "      <td>...</td>\n",
       "      <td>...</td>\n",
       "      <td>...</td>\n",
       "      <td>...</td>\n",
       "      <td>...</td>\n",
       "    </tr>\n",
       "    <tr>\n",
       "      <th>1205</th>\n",
       "      <td>[True]</td>\n",
       "      <td>0</td>\n",
       "      <td>Very nice !!!!! So cool! Recommend!</td>\n",
       "      <td>5</td>\n",
       "      <td>Cool</td>\n",
       "      <td>5</td>\n",
       "      <td>5</td>\n",
       "      <td>1</td>\n",
       "      <td>1</td>\n",
       "      <td>63277988</td>\n",
       "      <td>25</td>\n",
       "      <td>25</td>\n",
       "      <td>[True]</td>\n",
       "    </tr>\n",
       "    <tr>\n",
       "      <th>1206</th>\n",
       "      <td>[False]</td>\n",
       "      <td>0</td>\n",
       "      <td>This product has a lovely scent but I don't re...</td>\n",
       "      <td>2</td>\n",
       "      <td>Great scent, Not for those who need a strong d...</td>\n",
       "      <td>4.9</td>\n",
       "      <td>20</td>\n",
       "      <td>36</td>\n",
       "      <td>33</td>\n",
       "      <td>4327885</td>\n",
       "      <td>71</td>\n",
       "      <td>100</td>\n",
       "      <td>[True]</td>\n",
       "    </tr>\n",
       "    <tr>\n",
       "      <th>1207</th>\n",
       "      <td>[True]</td>\n",
       "      <td>1</td>\n",
       "      <td>This deodorant destroyed my underarm skin. You...</td>\n",
       "      <td>1</td>\n",
       "      <td>Terrible for sensitive skin</td>\n",
       "      <td>4.5</td>\n",
       "      <td>46.1</td>\n",
       "      <td>42</td>\n",
       "      <td>41</td>\n",
       "      <td>707986</td>\n",
       "      <td>88</td>\n",
       "      <td>100</td>\n",
       "      <td>[True]</td>\n",
       "    </tr>\n",
       "    <tr>\n",
       "      <th>1208</th>\n",
       "      <td>[False]</td>\n",
       "      <td>0</td>\n",
       "      <td>I have tried several deodorants  and my under ...</td>\n",
       "      <td>5</td>\n",
       "      <td>Great product.</td>\n",
       "      <td>4.3</td>\n",
       "      <td>16.3</td>\n",
       "      <td>23</td>\n",
       "      <td>23</td>\n",
       "      <td>63277988</td>\n",
       "      <td>63</td>\n",
       "      <td>100</td>\n",
       "      <td>[True]</td>\n",
       "    </tr>\n",
       "    <tr>\n",
       "      <th>1209</th>\n",
       "      <td>[False]</td>\n",
       "      <td>0</td>\n",
       "      <td>Goes on beautifully. Rich and creamy. A little...</td>\n",
       "      <td>5</td>\n",
       "      <td>A little goes a long way</td>\n",
       "      <td>5</td>\n",
       "      <td>14</td>\n",
       "      <td>1</td>\n",
       "      <td>1</td>\n",
       "      <td>63277988</td>\n",
       "      <td>25</td>\n",
       "      <td>25</td>\n",
       "      <td>[True]</td>\n",
       "    </tr>\n",
       "  </tbody>\n",
       "</table>\n",
       "<p>1210 rows × 13 columns</p>\n",
       "</div>"
      ],
      "text/plain": [
       "     has_image num_helpful                                     review_content  \\\n",
       "0      [False]           0                                         body scrub   \n",
       "1      [False]           0                                      good product!   \n",
       "2      [False]           0  Never write reviews , but this stuff is amazin...   \n",
       "3      [False]           0  You may see great results for a while, but tru...   \n",
       "4       [True]           0                    Me fascina como me deja la piel   \n",
       "...        ...         ...                                                ...   \n",
       "1205    [True]           0                Very nice !!!!! So cool! Recommend!   \n",
       "1206   [False]           0  This product has a lovely scent but I don't re...   \n",
       "1207    [True]           1  This deodorant destroyed my underarm skin. You...   \n",
       "1208   [False]           0  I have tried several deodorants  and my under ...   \n",
       "1209   [False]           0  Goes on beautifully. Rich and creamy. A little...   \n",
       "\n",
       "     review_rating                                       review_title  \\\n",
       "0                5                                              Great   \n",
       "1                5                                         Five Stars   \n",
       "2                5                                        Amazing !!!   \n",
       "3                1  Witch hazel is awful for your skin no matter what   \n",
       "4                5                 Muy rico olor que queda en la piel   \n",
       "...            ...                                                ...   \n",
       "1205             5                                               Cool   \n",
       "1206             2  Great scent, Not for those who need a strong d...   \n",
       "1207             1                        Terrible for sensitive skin   \n",
       "1208             5                                     Great product.   \n",
       "1209             5                           A little goes a long way   \n",
       "\n",
       "     reviewer_avg_rating reviewer_avg_word_count reviewer_num_review  \\\n",
       "0                    4.3                     8.7                  21   \n",
       "1                      5                     2.3                  14   \n",
       "2                      5                      13                   2   \n",
       "3                      3                      27                   2   \n",
       "4                      5                       0                   1   \n",
       "...                  ...                     ...                 ...   \n",
       "1205                   5                       5                   1   \n",
       "1206                 4.9                      20                  36   \n",
       "1207                 4.5                    46.1                  42   \n",
       "1208                 4.3                    16.3                  23   \n",
       "1209                   5                      14                   1   \n",
       "\n",
       "     reviewer_num_verified reviewer_ranking reviewer_trust trust  \\\n",
       "0                       21          4119896             71   100   \n",
       "1                       14         22504054             33     0   \n",
       "2                        0         19442408              0     0   \n",
       "3                        1         63277988             29     0   \n",
       "4                        1         63277988            100   100   \n",
       "...                    ...              ...            ...   ...   \n",
       "1205                     1         63277988             25    25   \n",
       "1206                    33          4327885             71   100   \n",
       "1207                    41           707986             88   100   \n",
       "1208                    23         63277988             63   100   \n",
       "1209                     1         63277988             25    25   \n",
       "\n",
       "     verified_purchase  \n",
       "0               [True]  \n",
       "1               [True]  \n",
       "2              [False]  \n",
       "3              [False]  \n",
       "4               [True]  \n",
       "...                ...  \n",
       "1205            [True]  \n",
       "1206            [True]  \n",
       "1207            [True]  \n",
       "1208            [True]  \n",
       "1209            [True]  \n",
       "\n",
       "[1210 rows x 13 columns]"
      ]
     },
     "execution_count": 115,
     "metadata": {},
     "output_type": "execute_result"
    }
   ],
   "source": [
    "df.head(1210)"
   ]
  },
  {
   "cell_type": "code",
   "execution_count": 116,
   "metadata": {
    "colab": {
     "base_uri": "https://localhost:8080/"
    },
    "id": "pAcgafcTonJT",
    "outputId": "de81006d-5704-4627-87bd-490800b140f7"
   },
   "outputs": [],
   "source": [
    "\n",
    "def toFloat(name):\n",
    "    for i in range(len(df[name])):\n",
    "      a = df.at[i, name]\n",
    "      if type(a) == str:\n",
    "        a = a.replace(\",\", \"\")\n",
    "        if len(a) == 0:\n",
    "            a = 0.0\n",
    "      df.at[i, name] = float(a)\n",
    "    \n"
   ]
  },
  {
   "cell_type": "code",
   "execution_count": 117,
   "metadata": {},
   "outputs": [],
   "source": [
    "df = df.reset_index(drop=True)"
   ]
  },
  {
   "cell_type": "code",
   "execution_count": 122,
   "metadata": {},
   "outputs": [],
   "source": [
    "toFloat('reviewer_avg_rating')\n",
    "toFloat('reviewer_num_review')\n",
    "toFloat('reviewer_num_verified')\n",
    "toFloat('reviewer_avg_word_count')\n",
    "toFloat('reviewer_ranking')\n",
    "toFloat('review_rating')"
   ]
  },
  {
   "cell_type": "code",
   "execution_count": 126,
   "metadata": {},
   "outputs": [],
   "source": [
    "def toStr(name):\n",
    "    for i in range(12000, len(df)):\n",
    "        a = df.at[i, name]\n",
    "        if type(a) == bool:\n",
    "            if a:\n",
    "                df.at[i, name] = \"[True]\"\n",
    "            else:\n",
    "                df.at[i, name] = \"[False]\"\n",
    "            \n"
   ]
  },
  {
   "cell_type": "code",
   "execution_count": 127,
   "metadata": {},
   "outputs": [],
   "source": [
    "toStr('has_image')\n",
    "toStr('verified_purchase')"
   ]
  },
  {
   "cell_type": "code",
   "execution_count": 120,
   "metadata": {},
   "outputs": [],
   "source": [
    "def toInt(name):\n",
    "    for i in range(12000, len(df)):\n",
    "        a = df.at[i, name]\n",
    "        if type(a) == str:\n",
    "            df.at[i, name] = int(a)"
   ]
  },
  {
   "cell_type": "code",
   "execution_count": 123,
   "metadata": {},
   "outputs": [],
   "source": [
    "toInt('num_helpful')\n",
    "toInt('trust')\n",
    "\n",
    "toInt('reviewer_trust')"
   ]
  },
  {
   "cell_type": "code",
   "execution_count": 128,
   "metadata": {
    "id": "aeWHZT3_Ulmh"
   },
   "outputs": [],
   "source": [
    "spark_dataframe = spark.createDataFrame(df)"
   ]
  },
  {
   "cell_type": "code",
   "execution_count": 129,
   "metadata": {
    "colab": {
     "base_uri": "https://localhost:8080/"
    },
    "id": "W01xBhQLpHVC",
    "outputId": "0e07164e-6ab7-49f9-c948-fd43e4bdf65d"
   },
   "outputs": [
    {
     "name": "stdout",
     "output_type": "stream",
     "text": [
      "root\n",
      " |-- has_image: string (nullable = true)\n",
      " |-- num_helpful: long (nullable = true)\n",
      " |-- review_content: string (nullable = true)\n",
      " |-- review_rating: double (nullable = true)\n",
      " |-- review_title: string (nullable = true)\n",
      " |-- reviewer_avg_rating: double (nullable = true)\n",
      " |-- reviewer_avg_word_count: double (nullable = true)\n",
      " |-- reviewer_num_review: double (nullable = true)\n",
      " |-- reviewer_num_verified: double (nullable = true)\n",
      " |-- reviewer_ranking: double (nullable = true)\n",
      " |-- reviewer_trust: long (nullable = true)\n",
      " |-- trust: long (nullable = true)\n",
      " |-- verified_purchase: string (nullable = true)\n",
      "\n"
     ]
    }
   ],
   "source": [
    "spark_dataframe.printSchema()"
   ]
  },
  {
   "cell_type": "code",
   "execution_count": 130,
   "metadata": {
    "colab": {
     "base_uri": "https://localhost:8080/"
    },
    "id": "YnHSgHyYC0l-",
    "outputId": "07f2e133-7a26-4c40-ae1f-a1235be2171f"
   },
   "outputs": [
    {
     "name": "stdout",
     "output_type": "stream",
     "text": [
      "+---------+-----------+--------------------+-------------+--------------------+-------------------+-----------------------+-------------------+---------------------+----------------+--------------+-----+-----------------+\n",
      "|has_image|num_helpful|      review_content|review_rating|        review_title|reviewer_avg_rating|reviewer_avg_word_count|reviewer_num_review|reviewer_num_verified|reviewer_ranking|reviewer_trust|trust|verified_purchase|\n",
      "+---------+-----------+--------------------+-------------+--------------------+-------------------+-----------------------+-------------------+---------------------+----------------+--------------+-----+-----------------+\n",
      "|  [False]|          0|          body scrub|          5.0|               Great|                4.3|                    8.7|               21.0|                 21.0|       4119896.0|            71|  100|           [True]|\n",
      "|  [False]|          0|       good product!|          5.0|          Five Stars|                5.0|                    2.3|               14.0|                 14.0|     2.2504054E7|            33|    0|           [True]|\n",
      "|  [False]|          0|Never write revie...|          5.0|         Amazing !!!|                5.0|                   13.0|                2.0|                  0.0|     1.9442408E7|             0|    0|          [False]|\n",
      "|  [False]|          0|You may see great...|          1.0|Witch hazel is aw...|                3.0|                   27.0|                2.0|                  1.0|     6.3277988E7|            29|    0|          [False]|\n",
      "|   [True]|          0|Me fascina como m...|          5.0|Muy rico olor que...|                5.0|                    0.0|                1.0|                  1.0|     6.3277988E7|           100|  100|           [True]|\n",
      "|  [False]|          0|My skin looks exa...|          4.0|It feels like put...|                4.3|                   59.2|                6.0|                  1.0|       9595013.0|            36|    5|          [False]|\n",
      "|  [False]|          0|Use for fairly dr...|          5.0|Use for sensitive...|                4.2|                   13.9|               29.0|                 29.0|       1079429.0|            61|    0|           [True]|\n",
      "|  [False]|          0|The top sticker d...|          3.0|       They are thin|                3.0|                   22.0|                1.0|                  0.0|     6.3277988E7|             0|    0|          [False]|\n",
      "|  [False]|          0|Very promising wh...|          5.0|I've never had a ...|                5.0|                   32.0|                7.0|                  0.0|     3.6175028E7|             9|    0|          [False]|\n",
      "|  [False]|          0|A go to product f...|          5.0|      Great product!|                5.0|                   20.3|                3.0|                  0.0|     1.8071324E7|             0|    0|          [False]|\n",
      "|  [False]|          0|These are the abs...|          5.0|      Work Fantastic|                3.6|                   52.0|               56.0|                 49.0|        630682.0|            75|  100|           [True]|\n",
      "|  [False]|          0|This is a superio...|          5.0|One of the Best D...|                4.9|                   14.0|               53.0|                 46.0|       2998265.0|            73|    0|           [True]|\n",
      "|  [False]|          0|Seems great for d...|          5.0|    No issues so far|                4.4|                   52.7|              418.0|                390.0|         48867.0|            82|  100|           [True]|\n",
      "|  [False]|          0|Easily rehydrated...|          5.0|My wife and daugh...|                4.4|                   45.2|              167.0|                162.0|         73838.0|            86|  100|           [True]|\n",
      "|  [False]|          0|This is a great p...|          5.0|               Great|                4.6|                   22.3|               16.0|                 16.0|       2440778.0|            62|  100|           [True]|\n",
      "|  [False]|          0|      Great for feet|          5.0|                Nice|                4.7|                   12.7|                6.0|                  6.0|       9437284.0|            68|  100|           [True]|\n",
      "|  [False]|          0|This sunscreen mo...|          3.0|Very heavy / thic...|                3.8|                   24.1|               33.0|                 28.0|       2335056.0|            88|  100|           [True]|\n",
      "|  [False]|          0|Refreshing but di...|          3.0|Average makeup re...|                3.0|                   10.0|                1.0|                  0.0|     2.5940597E7|             0|    0|          [False]|\n",
      "|  [False]|          0|My go to morning ...|          5.0|My go to morning ...|                4.6|                   32.8|               68.0|                 66.0|        481494.0|            76|  100|           [True]|\n",
      "|  [False]|          0|This product is t...|          5.0|This product is t...|                5.0|                   50.0|                1.0|                  0.0|     3.9700442E7|             0|    0|          [False]|\n",
      "+---------+-----------+--------------------+-------------+--------------------+-------------------+-----------------------+-------------------+---------------------+----------------+--------------+-----+-----------------+\n",
      "only showing top 20 rows\n",
      "\n"
     ]
    }
   ],
   "source": [
    "spark_dataframe.na.drop(how='any').show()"
   ]
  },
  {
   "cell_type": "code",
   "execution_count": 131,
   "metadata": {
    "colab": {
     "base_uri": "https://localhost:8080/"
    },
    "id": "7u1-CPheD3UD",
    "outputId": "30cfdc6e-ec52-4f88-fce3-1525a2b865a0"
   },
   "outputs": [
    {
     "data": {
      "text/plain": [
       "12562"
      ]
     },
     "execution_count": 131,
     "metadata": {},
     "output_type": "execute_result"
    }
   ],
   "source": [
    "spark_dataframe.count()"
   ]
  },
  {
   "cell_type": "code",
   "execution_count": 132,
   "metadata": {
    "colab": {
     "base_uri": "https://localhost:8080/"
    },
    "id": "Gy8zt8i_nRTa",
    "outputId": "588f4158-7f27-461e-bdee-e7f6dd31c4cf"
   },
   "outputs": [
    {
     "data": {
      "text/plain": [
       "DataFrame[summary: string, has_image: string, num_helpful: string, review_content: string, review_rating: string, review_title: string, reviewer_avg_rating: string, reviewer_avg_word_count: string, reviewer_num_review: string, reviewer_num_verified: string, reviewer_ranking: string, reviewer_trust: string, trust: string, verified_purchase: string]"
      ]
     },
     "execution_count": 132,
     "metadata": {},
     "output_type": "execute_result"
    }
   ],
   "source": [
    "spark_dataframe.describe()"
   ]
  },
  {
   "cell_type": "code",
   "execution_count": 133,
   "metadata": {
    "id": "uDx1S6P3cXvj"
   },
   "outputs": [],
   "source": [
    "# return the trust to form 0 or 1\n",
    "from pyspark.sql.types import IntegerType\n",
    "from pyspark.sql.types import FloatType\n",
    "from pyspark.sql.functions import udf"
   ]
  },
  {
   "cell_type": "code",
   "execution_count": 134,
   "metadata": {
    "id": "Pf36MsaQcXts"
   },
   "outputs": [],
   "source": [
    "def convert_trust(x):\n",
    "\treturn 1 if str(x) > str(50) else 0"
   ]
  },
  {
   "cell_type": "code",
   "execution_count": 135,
   "metadata": {
    "id": "ENS5Jrbpd5SN"
   },
   "outputs": [],
   "source": [
    "trust_udf = udf(convert_trust, IntegerType())\n",
    "spark_dataframe = spark_dataframe.withColumn('trust', trust_udf('trust'))\n"
   ]
  },
  {
   "cell_type": "code",
   "execution_count": 136,
   "metadata": {
    "id": "FD4vrnQYd-Rw"
   },
   "outputs": [],
   "source": [
    "def convert_verified_purchase(x):\n",
    "\treturn 0 if x == \"[False]\" else 1"
   ]
  },
  {
   "cell_type": "code",
   "execution_count": 137,
   "metadata": {
    "id": "yoh91ioDeEbF"
   },
   "outputs": [],
   "source": [
    "verified_purchase_udf = udf(convert_verified_purchase, IntegerType())\n",
    "spark_dataframe = spark_dataframe.withColumn('verified_purchase', verified_purchase_udf('verified_purchase'))\n",
    "\n",
    "#review_df.show(5)"
   ]
  },
  {
   "cell_type": "code",
   "execution_count": 138,
   "metadata": {
    "id": "C_QzpDaDd7HW"
   },
   "outputs": [],
   "source": [
    "# change False to 0 and True to 1\n",
    "def convert_has_image(x):\n",
    "\treturn 0 if str(x) == \"[False]\" else 1"
   ]
  },
  {
   "cell_type": "code",
   "execution_count": 139,
   "metadata": {
    "id": "py7_N63Qd82j"
   },
   "outputs": [],
   "source": [
    "has_image_udf = udf(convert_has_image, IntegerType())\n",
    "spark_dataframe = spark_dataframe.withColumn('has_image', has_image_udf('has_image'))\n"
   ]
  },
  {
   "cell_type": "code",
   "execution_count": 140,
   "metadata": {
    "id": "6i2y4TP7eGln"
   },
   "outputs": [],
   "source": [
    "# text preprocessing\n",
    "import gensim.parsing.preprocessing as gsp\n",
    "from pyspark.sql.types import StringType\n",
    "from gensim import utils"
   ]
  },
  {
   "cell_type": "code",
   "execution_count": 141,
   "metadata": {
    "id": "wT2m760AeIcD"
   },
   "outputs": [],
   "source": [
    "filters = [\n",
    "    gsp.strip_tags, \n",
    "    gsp.strip_punctuation,\n",
    "    gsp.strip_multiple_whitespaces,\n",
    "    gsp.strip_numeric,\n",
    "    gsp.remove_stopwords, \n",
    "    gsp.strip_short, \n",
    "    gsp.stem_text\n",
    "]"
   ]
  },
  {
   "cell_type": "code",
   "execution_count": 142,
   "metadata": {
    "id": "3PNsVqvPeKIY"
   },
   "outputs": [],
   "source": [
    "# merge_content_title(\n",
    "from pyspark.sql import functions as sf\n",
    "spark_dataframe = spark_dataframe.withColumn(\"content_title\", sf.concat(sf.col(\"review_content\"), sf.lit(' '), sf.col(\"review_title\")))"
   ]
  },
  {
   "cell_type": "code",
   "execution_count": 143,
   "metadata": {
    "id": "n1SW6pDKeUcZ"
   },
   "outputs": [],
   "source": [
    "# normalize text change from icon to text \n",
    "# such as :)) to smile\n",
    "\n",
    "import re\n",
    "import pandas as pd"
   ]
  },
  {
   "cell_type": "code",
   "execution_count": 144,
   "metadata": {
    "colab": {
     "base_uri": "https://localhost:8080/",
     "height": 35
    },
    "id": "DO5sbHw_YXBu",
    "outputId": "acee0dc3-c7d7-48b9-9267-023abd977c63"
   },
   "outputs": [
    {
     "data": {
      "text/plain": [
       "'Python is :thumbs_up:'"
      ]
     },
     "execution_count": 144,
     "metadata": {},
     "output_type": "execute_result"
    }
   ],
   "source": [
    "import emoji\n",
    "emoji.demojize('Python is 👍')"
   ]
  },
  {
   "cell_type": "code",
   "execution_count": 145,
   "metadata": {
    "colab": {
     "base_uri": "https://localhost:8080/"
    },
    "id": "UC4Il598aUcX",
    "outputId": "3b1c04b1-42ca-4ffc-995c-74bbb9b8f851"
   },
   "outputs": [
    {
     "name": "stdout",
     "output_type": "stream",
     "text": [
      "+---------+-----------+--------------+-------------+------------+-------------------+-----------------------+-------------------+---------------------+----------------+--------------+-----+-----------------+----------------+\n",
      "|has_image|num_helpful|review_content|review_rating|review_title|reviewer_avg_rating|reviewer_avg_word_count|reviewer_num_review|reviewer_num_verified|reviewer_ranking|reviewer_trust|trust|verified_purchase|   content_title|\n",
      "+---------+-----------+--------------+-------------+------------+-------------------+-----------------------+-------------------+---------------------+----------------+--------------+-----+-----------------+----------------+\n",
      "|        0|          0|    body scrub|          5.0|       Great|                4.3|                    8.7|               21.0|                 21.0|       4119896.0|            71|    0|                1|body scrub Great|\n",
      "+---------+-----------+--------------+-------------+------------+-------------------+-----------------------+-------------------+---------------------+----------------+--------------+-----+-----------------+----------------+\n",
      "only showing top 1 row\n",
      "\n"
     ]
    }
   ],
   "source": [
    "spark_dataframe.show(1)"
   ]
  },
  {
   "cell_type": "code",
   "execution_count": 146,
   "metadata": {
    "id": "LzVftrs0ee_S"
   },
   "outputs": [],
   "source": [
    "\n",
    "def give_emoji_free_text(x):\n",
    "  text = x[13]\n",
    "  if type(text) == str:\n",
    "    text.replace(\"\\\"\", \"\")\n",
    "    text = emoji.demojize(text)\n",
    "  return (x[0],x[1], x[3], x[5], x[6], x[7], x[8], x[9], x[10], x[12], text, x[11])\n",
    "  "
   ]
  },
  {
   "cell_type": "markdown",
   "metadata": {
    "id": "KDMDsXG5Z-3-"
   },
   "source": []
  },
  {
   "cell_type": "code",
   "execution_count": 147,
   "metadata": {
    "id": "gJdPSV9KfeAN"
   },
   "outputs": [],
   "source": [
    "#  replace emoji to text\n",
    "temp_rdd = spark_dataframe.rdd.map(lambda x: give_emoji_free_text(x))\n",
    "temp_df = temp_rdd.toDF([\"has_image\",\"num_helpful\",\n",
    "  \"review_rating\",\"reviewer_avg_rating\",\n",
    "  \"reviewer_avg_word_count\", \n",
    "  \"reviewer_num_review\" ,\"reviewer_num_verified\",\n",
    "  \"reviewer_ranking\",\"reviewer_trust\", \n",
    "  \"verified_purchase\", \" content_title\",\"trust\"])"
   ]
  },
  {
   "cell_type": "code",
   "execution_count": 148,
   "metadata": {
    "colab": {
     "base_uri": "https://localhost:8080/"
    },
    "id": "XJ5-jNE_TOVr",
    "outputId": "44cc2467-b457-40d8-a01f-8dfaabfcc5c5"
   },
   "outputs": [
    {
     "name": "stdout",
     "output_type": "stream",
     "text": [
      "root\n",
      " |-- has_image: long (nullable = true)\n",
      " |-- num_helpful: long (nullable = true)\n",
      " |-- review_rating: double (nullable = true)\n",
      " |-- reviewer_avg_rating: double (nullable = true)\n",
      " |-- reviewer_avg_word_count: double (nullable = true)\n",
      " |-- reviewer_num_review: double (nullable = true)\n",
      " |-- reviewer_num_verified: double (nullable = true)\n",
      " |-- reviewer_ranking: double (nullable = true)\n",
      " |-- reviewer_trust: long (nullable = true)\n",
      " |-- verified_purchase: long (nullable = true)\n",
      " |--  content_title: string (nullable = true)\n",
      " |-- trust: long (nullable = true)\n",
      "\n"
     ]
    }
   ],
   "source": [
    "temp_df.printSchema()"
   ]
  },
  {
   "cell_type": "code",
   "execution_count": 149,
   "metadata": {
    "id": "Upox-CwQffzn"
   },
   "outputs": [],
   "source": [
    "def clean_text(x):\n",
    "  review_content_tittle = x[10]\n",
    "  review_content_tittle  = review_content_tittle.lower()\n",
    "  review_content_tittle = utils.to_unicode(review_content_tittle)\n",
    "\n",
    "  for filter in filters:\n",
    "    review_content_tittle = filter(review_content_tittle)\n",
    "\n",
    "  return (x[0], x[1], x[2], x[3], x[4], x[5], x[6], x[7], x[8], x[9], review_content_tittle, x[11])"
   ]
  },
  {
   "cell_type": "code",
   "execution_count": 150,
   "metadata": {
    "id": "XSzOlKG4fqTN"
   },
   "outputs": [],
   "source": [
    "# cleaned_data_create \n",
    "\n",
    "input_rdd = temp_df.rdd.map(lambda x: clean_text(x))\n",
    "input_df = input_rdd.toDF([\"has_image\",\"num_helpful\",\n",
    "  \"review_rating\",\"reviewer_avg_rating\",\n",
    "  \"reviewer_avg_word_count\", \n",
    "  \"reviewer_num_review\" ,\"reviewer_num_verified\",\n",
    "  \"reviewer_ranking\",\"reviewer_trust\", \n",
    "  \"verified_purchase\", \"content_title\",\n",
    "  \"trust\"])"
   ]
  },
  {
   "cell_type": "code",
   "execution_count": 151,
   "metadata": {
    "colab": {
     "base_uri": "https://localhost:8080/"
    },
    "id": "G_FVp9Z6bRjV",
    "outputId": "a40092a3-0b1f-42ad-b6d2-fa0ff4cf32e9"
   },
   "outputs": [
    {
     "name": "stdout",
     "output_type": "stream",
     "text": [
      "+---------+-----------+-------------+-------------------+-----------------------+-------------------+---------------------+----------------+--------------+-----------------+----------------+-----+\n",
      "|has_image|num_helpful|review_rating|reviewer_avg_rating|reviewer_avg_word_count|reviewer_num_review|reviewer_num_verified|reviewer_ranking|reviewer_trust|verified_purchase|   content_title|trust|\n",
      "+---------+-----------+-------------+-------------------+-----------------------+-------------------+---------------------+----------------+--------------+-----------------+----------------+-----+\n",
      "|        0|          0|          5.0|                4.3|                    8.7|               21.0|                 21.0|       4119896.0|            71|                1|bodi scrub great|    0|\n",
      "+---------+-----------+-------------+-------------------+-----------------------+-------------------+---------------------+----------------+--------------+-----------------+----------------+-----+\n",
      "only showing top 1 row\n",
      "\n"
     ]
    }
   ],
   "source": [
    "input_df.show(1)"
   ]
  },
  {
   "cell_type": "code",
   "execution_count": 152,
   "metadata": {
    "id": "mzwHGlw3fskU"
   },
   "outputs": [],
   "source": [
    "from pyspark.ml.feature import StringIndexer, OneHotEncoder, VectorAssembler\n",
    "from pyspark.ml.feature import MinMaxScaler"
   ]
  },
  {
   "cell_type": "code",
   "execution_count": 153,
   "metadata": {
    "id": "eVrWy3ACk-4P"
   },
   "outputs": [],
   "source": [
    "# split train and test \n",
    "train_df, test_df = input_df.randomSplit([0.8, 0.2])"
   ]
  },
  {
   "cell_type": "code",
   "execution_count": 154,
   "metadata": {
    "colab": {
     "base_uri": "https://localhost:8080/"
    },
    "id": "xqqht-z8hVvg",
    "outputId": "4dca56b4-225c-418a-d70d-b14c1eb930d6"
   },
   "outputs": [
    {
     "data": {
      "text/plain": [
       "10088"
      ]
     },
     "execution_count": 154,
     "metadata": {},
     "output_type": "execute_result"
    }
   ],
   "source": [
    "train_df.count()"
   ]
  },
  {
   "cell_type": "code",
   "execution_count": 155,
   "metadata": {
    "id": "6BTknFPElAkd"
   },
   "outputs": [],
   "source": [
    "# Word2Vec\n",
    "from pyspark.ml.feature import Word2Vec\n",
    "from pyspark.ml.feature import HashingTF, IDF, Tokenizer\n",
    "from pyspark.ml import Pipeline"
   ]
  },
  {
   "cell_type": "code",
   "execution_count": 156,
   "metadata": {
    "id": "eCcS-QSUlCCe"
   },
   "outputs": [],
   "source": [
    "tokenizer = Tokenizer(inputCol=\"content_title\",outputCol=\"words\")\n",
    "w2v =  Word2Vec(vectorSize=5, minCount=0, inputCol=\"words\", outputCol=\"features_text\")"
   ]
  },
  {
   "cell_type": "code",
   "execution_count": 157,
   "metadata": {
    "id": "bZEkIplYlE-O"
   },
   "outputs": [],
   "source": [
    "doc2vec_pipeline = Pipeline(stages=[tokenizer,w2v])\n",
    "doc2vec_model = doc2vec_pipeline.fit(train_df)\n",
    "train_df = doc2vec_model.transform(train_df)\n",
    "test_df = doc2vec_model.transform(test_df)"
   ]
  },
  {
   "cell_type": "code",
   "execution_count": 158,
   "metadata": {
    "colab": {
     "base_uri": "https://localhost:8080/"
    },
    "id": "Ln8ncMeSlKM_",
    "outputId": "7816a394-5bbb-4972-bf03-d7613504d76a"
   },
   "outputs": [
    {
     "name": "stdout",
     "output_type": "stream",
     "text": [
      "train_df after fit and transform\n",
      "+---------+-----------+-------------+-------------------+-----------------------+-------------------+---------------------+----------------+--------------+-----------------+--------------------+-----+--------------------+--------------------+\n",
      "|has_image|num_helpful|review_rating|reviewer_avg_rating|reviewer_avg_word_count|reviewer_num_review|reviewer_num_verified|reviewer_ranking|reviewer_trust|verified_purchase|       content_title|trust|               words|       features_text|\n",
      "+---------+-----------+-------------+-------------------+-----------------------+-------------------+---------------------+----------------+--------------+-----------------+--------------------+-----+--------------------+--------------------+\n",
      "|        0|          0|          1.0|                1.0|                    0.0|                1.0|                  1.0|     6.3277988E7|             0|                1|fue que pedí pout...|    0|[fue, que, pedí, ...|[-0.0701545627255...|\n",
      "+---------+-----------+-------------+-------------------+-----------------------+-------------------+---------------------+----------------+--------------+-----------------+--------------------+-----+--------------------+--------------------+\n",
      "only showing top 1 row\n",
      "\n"
     ]
    }
   ],
   "source": [
    "print('train_df after fit and transform')\n",
    "train_df.show(1)"
   ]
  },
  {
   "cell_type": "code",
   "execution_count": 159,
   "metadata": {
    "colab": {
     "base_uri": "https://localhost:8080/"
    },
    "id": "XFMnsYupeiUR",
    "outputId": "f2a40a3a-16a2-46ca-ae01-d9186658c125"
   },
   "outputs": [
    {
     "name": "stdout",
     "output_type": "stream",
     "text": [
      "root\n",
      " |-- has_image: long (nullable = true)\n",
      " |-- num_helpful: long (nullable = true)\n",
      " |-- review_rating: double (nullable = true)\n",
      " |-- reviewer_avg_rating: double (nullable = true)\n",
      " |-- reviewer_avg_word_count: double (nullable = true)\n",
      " |-- reviewer_num_review: double (nullable = true)\n",
      " |-- reviewer_num_verified: double (nullable = true)\n",
      " |-- reviewer_ranking: double (nullable = true)\n",
      " |-- reviewer_trust: long (nullable = true)\n",
      " |-- verified_purchase: long (nullable = true)\n",
      " |-- content_title: string (nullable = true)\n",
      " |-- trust: long (nullable = true)\n",
      " |-- words: array (nullable = true)\n",
      " |    |-- element: string (containsNull = true)\n",
      " |-- features_text: vector (nullable = true)\n",
      "\n"
     ]
    }
   ],
   "source": [
    "train_df.printSchema()"
   ]
  },
  {
   "cell_type": "code",
   "execution_count": 160,
   "metadata": {
    "id": "A2YbnQ3clZLf"
   },
   "outputs": [],
   "source": [
    "# normalize other feature to range 0..1\n",
    "# first transform each cell to a vector\n",
    "# second run pipeline to transfrom it by MinMax Scaler\n",
    "columns_to_scale = [\"has_image\",\"num_helpful\",\n",
    "  \"review_rating\",\"reviewer_avg_rating\",\n",
    "  \"reviewer_avg_word_count\", \n",
    "  \"reviewer_num_review\" ,\"reviewer_num_verified\",\n",
    "  \"reviewer_ranking\",\"reviewer_trust\", \n",
    "  \"verified_purchase\"]\n",
    "assemblers = [VectorAssembler(inputCols=[col], outputCol=col + \"_vec\", handleInvalid=\"skip\") for col in columns_to_scale]\n",
    "scalers = [MinMaxScaler(inputCol=col + \"_vec\", outputCol=col + \"_scaled\") for col in columns_to_scale]\n",
    "pipeline = Pipeline(stages=assemblers + scalers)\n"
   ]
  },
  {
   "cell_type": "code",
   "execution_count": 161,
   "metadata": {
    "colab": {
     "base_uri": "https://localhost:8080/"
    },
    "id": "rX_9LFEulSKE",
    "outputId": "05f7f3a7-6582-4f3f-e88b-211e024c8b32"
   },
   "outputs": [
    {
     "name": "stdout",
     "output_type": "stream",
     "text": [
      "+---------+-----------+-------------+-------------------+-----------------------+-------------------+---------------------+----------------+--------------+-----------------+--------------------+-----+--------------------+--------------------+\n",
      "|has_image|num_helpful|review_rating|reviewer_avg_rating|reviewer_avg_word_count|reviewer_num_review|reviewer_num_verified|reviewer_ranking|reviewer_trust|verified_purchase|       content_title|trust|               words|       features_text|\n",
      "+---------+-----------+-------------+-------------------+-----------------------+-------------------+---------------------+----------------+--------------+-----------------+--------------------+-----+--------------------+--------------------+\n",
      "|        0|          0|          1.0|                1.0|                    0.0|                1.0|                  1.0|     6.3277988E7|             0|                1|fue que pedí pout...|    0|[fue, que, pedí, ...|[-0.0701545627255...|\n",
      "+---------+-----------+-------------+-------------------+-----------------------+-------------------+---------------------+----------------+--------------+-----------------+--------------------+-----+--------------------+--------------------+\n",
      "only showing top 1 row\n",
      "\n"
     ]
    }
   ],
   "source": [
    "train_df.show(1)"
   ]
  },
  {
   "cell_type": "code",
   "execution_count": 162,
   "metadata": {
    "colab": {
     "base_uri": "https://localhost:8080/"
    },
    "id": "3mIQBQhBlVRw",
    "outputId": "4a35f482-1b81-4e10-fc6c-361a8091c618"
   },
   "outputs": [
    {
     "name": "stdout",
     "output_type": "stream",
     "text": [
      "+---------+-----------+-------------+-------------------+-----------------------+-------------------+---------------------+----------------+--------------+-----------------+--------------------+-----+--------------------+--------------------+\n",
      "|has_image|num_helpful|review_rating|reviewer_avg_rating|reviewer_avg_word_count|reviewer_num_review|reviewer_num_verified|reviewer_ranking|reviewer_trust|verified_purchase|       content_title|trust|               words|       features_text|\n",
      "+---------+-----------+-------------+-------------------+-----------------------+-------------------+---------------------+----------------+--------------+-----------------+--------------------+-----+--------------------+--------------------+\n",
      "|        0|          0|          1.0|                1.0|                    0.0|                1.0|                  1.0|     2.9399501E7|             0|                1|resibi est produc...|    0|[resibi, est, pro...|[-0.0029271449893...|\n",
      "+---------+-----------+-------------+-------------------+-----------------------+-------------------+---------------------+----------------+--------------+-----------------+--------------------+-----+--------------------+--------------------+\n",
      "only showing top 1 row\n",
      "\n"
     ]
    }
   ],
   "source": [
    "test_df.show(1)"
   ]
  },
  {
   "cell_type": "code",
   "execution_count": 163,
   "metadata": {
    "id": "Gtpk9GkFodK0"
   },
   "outputs": [],
   "source": [
    "from pyspark.sql.types import FloatType, DoubleType\n",
    "def convert_string(x):\n",
    "\treturn float(x)"
   ]
  },
  {
   "cell_type": "code",
   "execution_count": 164,
   "metadata": {
    "id": "sWJAEv6uwq5e"
   },
   "outputs": [],
   "source": [
    "def convert_string_to_int(x):\n",
    "\treturn int(x)"
   ]
  },
  {
   "cell_type": "code",
   "execution_count": 165,
   "metadata": {
    "id": "y_ciX1GCodrj"
   },
   "outputs": [],
   "source": [
    "review_rating_df = udf(convert_string, FloatType())\n",
    "train_df = train_df.withColumn('review_rating', review_rating_df('review_rating'))\n",
    "\n",
    "reviewer_avg_rating_df = udf(convert_string, FloatType())\n",
    "reviewer_avg_word_count_df = udf(convert_string, FloatType())\n",
    "reviewer_num_review_df = udf(convert_string_to_int, IntegerType())\n",
    "reviewer_num_verified_df = udf(convert_string_to_int, IntegerType())\n",
    "reviewer_ranking_df = udf(convert_string_to_int, IntegerType())\n",
    "reviewer_trust_df = udf(convert_string, FloatType())\n",
    "\n",
    "\n",
    "train_df = train_df.withColumn('reviewer_avg_rating', review_rating_df('reviewer_avg_rating') )\n",
    "train_df = train_df.withColumn('reviewer_avg_word_count', review_rating_df('reviewer_avg_word_count') )\n",
    "train_df = train_df.withColumn('reviewer_num_review', review_rating_df('reviewer_num_review') )\n",
    "train_df = train_df.withColumn('reviewer_num_verified', review_rating_df('reviewer_num_verified') )\n",
    "train_df = train_df.withColumn('reviewer_ranking', review_rating_df('reviewer_ranking') )\n",
    "train_df = train_df.withColumn('reviewer_avg_rating', review_rating_df('reviewer_avg_rating') )\n",
    "train_df = train_df.withColumn('reviewer_trust', review_rating_df('reviewer_trust') )\n",
    "\n"
   ]
  },
  {
   "cell_type": "code",
   "execution_count": 166,
   "metadata": {
    "id": "DSma0sUcyAPF"
   },
   "outputs": [],
   "source": [
    "review_rating_df = udf(convert_string, FloatType())\n",
    "test_df = test_df.withColumn('review_rating', review_rating_df('review_rating'))\n",
    "\n",
    "reviewer_avg_rating_df = udf(convert_string, FloatType())\n",
    "reviewer_avg_word_count_df = udf(convert_string, FloatType())\n",
    "reviewer_num_review_df = udf(convert_string_to_int, IntegerType())\n",
    "reviewer_num_verified_df = udf(convert_string_to_int, IntegerType())\n",
    "reviewer_ranking_df = udf(convert_string_to_int, IntegerType())\n",
    "reviewer_trust_df = udf(convert_string, FloatType())\n",
    "\n",
    "\n",
    "test_df = test_df.withColumn('reviewer_avg_rating', review_rating_df('reviewer_avg_rating') )\n",
    "test_df = test_df.withColumn('reviewer_avg_word_count', review_rating_df('reviewer_avg_word_count') )\n",
    "test_df = test_df.withColumn('reviewer_num_review', review_rating_df('reviewer_num_review') )\n",
    "test_df = test_df.withColumn('reviewer_num_verified', review_rating_df('reviewer_num_verified') )\n",
    "test_df = test_df.withColumn('reviewer_ranking', review_rating_df('reviewer_ranking') )\n",
    "test_df = test_df.withColumn('reviewer_avg_rating', review_rating_df('reviewer_avg_rating') )\n",
    "test_df = test_df.withColumn('reviewer_trust', review_rating_df('reviewer_trust') )\n",
    "\n"
   ]
  },
  {
   "cell_type": "code",
   "execution_count": 167,
   "metadata": {
    "colab": {
     "base_uri": "https://localhost:8080/"
    },
    "id": "szCnohK_fSb9",
    "outputId": "43a199b3-a37b-4eb4-fd73-ff9aad80e5d4"
   },
   "outputs": [
    {
     "name": "stdout",
     "output_type": "stream",
     "text": [
      "root\n",
      " |-- has_image: long (nullable = true)\n",
      " |-- num_helpful: long (nullable = true)\n",
      " |-- review_rating: float (nullable = true)\n",
      " |-- reviewer_avg_rating: float (nullable = true)\n",
      " |-- reviewer_avg_word_count: float (nullable = true)\n",
      " |-- reviewer_num_review: float (nullable = true)\n",
      " |-- reviewer_num_verified: float (nullable = true)\n",
      " |-- reviewer_ranking: float (nullable = true)\n",
      " |-- reviewer_trust: float (nullable = true)\n",
      " |-- verified_purchase: long (nullable = true)\n",
      " |-- content_title: string (nullable = true)\n",
      " |-- trust: long (nullable = true)\n",
      " |-- words: array (nullable = true)\n",
      " |    |-- element: string (containsNull = true)\n",
      " |-- features_text: vector (nullable = true)\n",
      "\n"
     ]
    }
   ],
   "source": [
    "train_df.printSchema()"
   ]
  },
  {
   "cell_type": "code",
   "execution_count": 168,
   "metadata": {
    "colab": {
     "base_uri": "https://localhost:8080/"
    },
    "id": "48zIBqNZfV2w",
    "outputId": "ab3e1d92-d9b1-40b7-c93b-53178cf2ecac"
   },
   "outputs": [
    {
     "name": "stdout",
     "output_type": "stream",
     "text": [
      "root\n",
      " |-- has_image: long (nullable = true)\n",
      " |-- num_helpful: long (nullable = true)\n",
      " |-- review_rating: float (nullable = true)\n",
      " |-- reviewer_avg_rating: float (nullable = true)\n",
      " |-- reviewer_avg_word_count: float (nullable = true)\n",
      " |-- reviewer_num_review: float (nullable = true)\n",
      " |-- reviewer_num_verified: float (nullable = true)\n",
      " |-- reviewer_ranking: float (nullable = true)\n",
      " |-- reviewer_trust: float (nullable = true)\n",
      " |-- verified_purchase: long (nullable = true)\n",
      " |-- content_title: string (nullable = true)\n",
      " |-- trust: long (nullable = true)\n",
      " |-- words: array (nullable = true)\n",
      " |    |-- element: string (containsNull = true)\n",
      " |-- features_text: vector (nullable = true)\n",
      "\n"
     ]
    }
   ],
   "source": [
    "test_df.printSchema()"
   ]
  },
  {
   "cell_type": "code",
   "execution_count": 169,
   "metadata": {
    "id": "NxNG6apMlaz2"
   },
   "outputs": [],
   "source": [
    "scalerModel = pipeline.fit(train_df)\n",
    "train_df = scalerModel.transform(train_df)\n",
    "test_df = scalerModel.transform(test_df)"
   ]
  },
  {
   "cell_type": "code",
   "execution_count": 170,
   "metadata": {
    "id": "4H7xj4FSf92O"
   },
   "outputs": [],
   "source": [
    "\n",
    "# print('train_df after fit and transform')\n",
    "\n",
    "# test_df.select('reviewer_trust_scaled').show(1)\n",
    "\n",
    "# here we have bug\n",
    "# vectorassembler use when concat many column into a vector\n",
    "# 1 2 3 --> [1,2,3]\n",
    "# but we want \n",
    "# [1], [2], [3] ---> [1,2,3]\n",
    "\n",
    "\n",
    "#third concat it to a column named featured_nun\n",
    "vector_assembler_num = VectorAssembler(\\\n",
    "  inputCols=[\n",
    "  \"has_image_scaled\",\"num_helpful_scaled\",\n",
    "  \"review_rating_scaled\",\"reviewer_avg_rating_scaled\",\n",
    "  \"reviewer_avg_word_count_scaled\", \n",
    "  \"reviewer_num_review_scaled\" ,\"reviewer_num_verified_scaled\",\n",
    "  \"reviewer_ranking_scaled\",\"reviewer_trust_scaled\", \n",
    "  \"verified_purchase_scaled\"\n",
    "  ],\\\n",
    "  outputCol=\"features_num\")"
   ]
  },
  {
   "cell_type": "code",
   "execution_count": 171,
   "metadata": {
    "id": "42MxWQwXgAz7"
   },
   "outputs": [],
   "source": [
    "train_df = vector_assembler_num.transform(train_df)"
   ]
  },
  {
   "cell_type": "code",
   "execution_count": 172,
   "metadata": {
    "colab": {
     "base_uri": "https://localhost:8080/",
     "height": 816
    },
    "id": "mGy4eOQxgr0y",
    "outputId": "60dafb3e-f298-4e5e-ebae-c45056e4f393"
   },
   "outputs": [
    {
     "name": "stdout",
     "output_type": "stream",
     "text": [
      "+---------+-----------+-------------+-------------------+-----------------------+-------------------+---------------------+----------------+--------------+-----------------+--------------------+-----+--------------------+--------------------+-------------+---------------+-----------------+-----------------------+---------------------------+-----------------------+-------------------------+--------------------+------------------+---------------------+----------------+------------------+--------------------+--------------------------+------------------------------+--------------------------+----------------------------+-----------------------+---------------------+------------------------+--------------------+\n",
      "|has_image|num_helpful|review_rating|reviewer_avg_rating|reviewer_avg_word_count|reviewer_num_review|reviewer_num_verified|reviewer_ranking|reviewer_trust|verified_purchase|       content_title|trust|               words|       features_text|has_image_vec|num_helpful_vec|review_rating_vec|reviewer_avg_rating_vec|reviewer_avg_word_count_vec|reviewer_num_review_vec|reviewer_num_verified_vec|reviewer_ranking_vec|reviewer_trust_vec|verified_purchase_vec|has_image_scaled|num_helpful_scaled|review_rating_scaled|reviewer_avg_rating_scaled|reviewer_avg_word_count_scaled|reviewer_num_review_scaled|reviewer_num_verified_scaled|reviewer_ranking_scaled|reviewer_trust_scaled|verified_purchase_scaled|        features_num|\n",
      "+---------+-----------+-------------+-------------------+-----------------------+-------------------+---------------------+----------------+--------------+-----------------+--------------------+-----+--------------------+--------------------+-------------+---------------+-----------------+-----------------------+---------------------------+-----------------------+-------------------------+--------------------+------------------+---------------------+----------------+------------------+--------------------+--------------------------+------------------------------+--------------------------+----------------------------+-----------------------+---------------------+------------------------+--------------------+\n",
      "|        0|          0|          1.0|                1.0|                    0.0|                1.0|                  1.0|     6.3277988E7|           0.0|                1|fue que pedí pout...|    0|[fue, que, pedí, ...|[-0.0701545627255...|        [0.0]|          [0.0]|            [1.0]|                  [1.0]|                      [0.0]|                  [1.0]|                    [1.0]|       [6.3277988E7]|             [0.0]|                [1.0]|           [0.0]|             [0.0]|               [0.0]|                     [0.0]|                         [0.0]|                     [0.0]|        [1.99084212621939...|   [0.8146787426975273]|                [0.0]|                   [1.0]|(10,[6,7,9],[1.99...|\n",
      "+---------+-----------+-------------+-------------------+-----------------------+-------------------+---------------------+----------------+--------------+-----------------+--------------------+-----+--------------------+--------------------+-------------+---------------+-----------------+-----------------------+---------------------------+-----------------------+-------------------------+--------------------+------------------+---------------------+----------------+------------------+--------------------+--------------------------+------------------------------+--------------------------+----------------------------+-----------------------+---------------------+------------------------+--------------------+\n",
      "only showing top 1 row\n",
      "\n"
     ]
    }
   ],
   "source": [
    "train_df.show(1)"
   ]
  },
  {
   "cell_type": "code",
   "execution_count": 173,
   "metadata": {
    "colab": {
     "base_uri": "https://localhost:8080/"
    },
    "id": "FFGQzWXSgtka",
    "outputId": "74e00dcb-ec12-4461-d8b3-df30b342027d"
   },
   "outputs": [
    {
     "name": "stdout",
     "output_type": "stream",
     "text": [
      "+--------------------+\n",
      "|       features_text|\n",
      "+--------------------+\n",
      "|[-0.0701545627255...|\n",
      "|[-0.0597543617089...|\n",
      "|[-0.1862397529184...|\n",
      "|[-0.0489047524053...|\n",
      "|[-0.0089826285839...|\n",
      "|[-0.1509825497865...|\n",
      "|[0.01430998295545...|\n",
      "|[0.01389714516699...|\n",
      "|[-0.0065002058981...|\n",
      "|[-0.4396339226514...|\n",
      "|[-0.1012028406063...|\n",
      "|[-0.2147730216383...|\n",
      "|[0.11754906177520...|\n",
      "|[0.03154478718837...|\n",
      "|[-0.3695423478881...|\n",
      "|[-0.0694851167500...|\n",
      "|[0.12660136965236...|\n",
      "|[-0.0613030387709...|\n",
      "|[-0.1972733300179...|\n",
      "|[-0.0693318744500...|\n",
      "+--------------------+\n",
      "only showing top 20 rows\n",
      "\n"
     ]
    }
   ],
   "source": [
    "train_df.select(\"features_text\").show()"
   ]
  },
  {
   "cell_type": "code",
   "execution_count": 174,
   "metadata": {
    "id": "yIDJb9UJ6ptJ"
   },
   "outputs": [],
   "source": [
    "\n",
    "test_df = vector_assembler_num.transform(test_df)\n"
   ]
  },
  {
   "cell_type": "code",
   "execution_count": 175,
   "metadata": {
    "colab": {
     "base_uri": "https://localhost:8080/"
    },
    "id": "u_n2IEOT_zVF",
    "outputId": "0474212d-6bac-44b4-e469-6a53e84475af"
   },
   "outputs": [
    {
     "name": "stdout",
     "output_type": "stream",
     "text": [
      "+--------------------+\n",
      "|        features_num|\n",
      "+--------------------+\n",
      "|(10,[6,7,9],[1.99...|\n",
      "|(10,[4,6,7,9],[0....|\n",
      "|(10,[4,6,7,9],[0....|\n",
      "|(10,[4,7],[0.0050...|\n",
      "|(10,[4,6,7,9],[0....|\n",
      "|(10,[4,6,7,8,9],[...|\n",
      "|(10,[4,6,7,9],[0....|\n",
      "|(10,[4,7],[0.0122...|\n",
      "|(10,[4,5,6,7,8],[...|\n",
      "|(10,[4,7],[0.0231...|\n",
      "|(10,[4,7],[0.0354...|\n",
      "|(10,[4,7],[0.0412...|\n",
      "|(10,[4,7],[0.0426...|\n",
      "|[0.0,0.0,0.0,9.48...|\n",
      "|[0.0,0.0,0.0,1.70...|\n",
      "|[0.0,0.0,0.0,2.46...|\n",
      "|[0.0,0.0,0.0,2.46...|\n",
      "|[0.0,0.0,0.0,3.22...|\n",
      "|[0.0,0.0,0.0,3.41...|\n",
      "|[0.0,0.0,0.0,3.79...|\n",
      "+--------------------+\n",
      "only showing top 20 rows\n",
      "\n",
      "+--------------------+\n",
      "|       features_text|\n",
      "+--------------------+\n",
      "|[-0.0029271449893...|\n",
      "|[-0.0152293462306...|\n",
      "|[0.08918498549610...|\n",
      "|[-0.0633669737726...|\n",
      "|[-0.0930243059992...|\n",
      "|[-0.3843827247619...|\n",
      "|[-0.3130229388674...|\n",
      "|[-0.0106201805174...|\n",
      "|[-0.2630627408404...|\n",
      "|[-0.2797066381822...|\n",
      "|[-0.3047843351960...|\n",
      "|[-0.2385845463033...|\n",
      "|[-0.3934323363006...|\n",
      "|[-0.0029919128865...|\n",
      "|[-0.1623531427573...|\n",
      "|[-0.1270302101969...|\n",
      "|[-0.1233659115433...|\n",
      "|[-0.2463896555656...|\n",
      "|[-0.1297883967106...|\n",
      "|[-0.1709206074786...|\n",
      "+--------------------+\n",
      "only showing top 20 rows\n",
      "\n"
     ]
    }
   ],
   "source": [
    "test_df.select(\"features_num\").show()\n",
    "test_df.select(\"features_text\").show()"
   ]
  },
  {
   "cell_type": "code",
   "execution_count": 176,
   "metadata": {
    "id": "SDBr38E7lcoV"
   },
   "outputs": [],
   "source": [
    "\n",
    "data_array_train_num =  np.array(train_df.select(\"features_num\").collect())\n",
    "data_array_test_num =  np.array(test_df.select(\"features_num\").collect())\n",
    "data_array_train_text = np.array(train_df.select(\"features_text\").collect())\n",
    "data_array_test_text = np.array(test_df.select(\"features_text\").collect())\n"
   ]
  },
  {
   "cell_type": "code",
   "execution_count": 177,
   "metadata": {
    "colab": {
     "base_uri": "https://localhost:8080/"
    },
    "id": "dj3WZcfb6uME",
    "outputId": "124ef417-857a-4ec8-c0ed-a9df05dc49a8"
   },
   "outputs": [
    {
     "name": "stdout",
     "output_type": "stream",
     "text": [
      "(10088, 1, 10)\n",
      "(2474, 1, 10)\n"
     ]
    }
   ],
   "source": [
    "print(data_array_train_num.shape)\n",
    "# (a, 1, 10)\n",
    "print(data_array_test_num.shape)\n",
    "# (b,1, 10)\n"
   ]
  },
  {
   "cell_type": "code",
   "execution_count": 178,
   "metadata": {
    "colab": {
     "base_uri": "https://localhost:8080/"
    },
    "id": "s5AuTvrtD2EW",
    "outputId": "241bb6ef-f239-4b0c-88e6-d25557aeec85"
   },
   "outputs": [
    {
     "name": "stdout",
     "output_type": "stream",
     "text": [
      "[[[0.         0.         0.         ... 0.81467874 0.         1.        ]]\n",
      "\n",
      " [[0.         0.         0.         ... 0.30712995 0.         1.        ]]\n",
      "\n",
      " [[0.         0.         0.         ... 0.29355389 0.         0.        ]]\n",
      "\n",
      " ...\n",
      "\n",
      " [[1.         0.1025641  0.         ... 0.0044743  0.95       1.        ]]\n",
      "\n",
      " [[1.         0.19711538 1.         ... 0.00309355 0.71       1.        ]]\n",
      "\n",
      " [[1.         0.3482906  0.         ... 0.03463149 0.48       1.        ]]]\n"
     ]
    }
   ],
   "source": [
    "print(data_array_train_num)"
   ]
  },
  {
   "cell_type": "code",
   "execution_count": 179,
   "metadata": {
    "id": "U31CTNdF6uqC"
   },
   "outputs": [],
   "source": [
    "x = data_array_train_num.shape\n",
    "y = data_array_test_num.shape\n",
    "x_text = data_array_train_text.shape\n",
    "y_text = data_array_test_text.shape"
   ]
  },
  {
   "cell_type": "code",
   "execution_count": 180,
   "metadata": {
    "id": "DAivJWLs6zHi"
   },
   "outputs": [],
   "source": [
    "data_array_train_num.resize(x[0], x[2])\n",
    "data_array_test_num.resize(y[0], y[2])"
   ]
  },
  {
   "cell_type": "code",
   "execution_count": null,
   "metadata": {
    "id": "7VVP0eTaDp-f"
   },
   "outputs": [],
   "source": []
  },
  {
   "cell_type": "code",
   "execution_count": 181,
   "metadata": {
    "colab": {
     "base_uri": "https://localhost:8080/"
    },
    "id": "oCr3E8ki6zKG",
    "outputId": "147bb7af-cec5-41d8-bcf5-bff3a358034f"
   },
   "outputs": [
    {
     "name": "stdout",
     "output_type": "stream",
     "text": [
      "(10088, 10)\n",
      "(2474, 10)\n",
      "(10088, 1, 5)\n",
      "(2474, 1, 5)\n"
     ]
    }
   ],
   "source": [
    "print(data_array_train_num.shape)\n",
    "print(data_array_test_num.shape)\n",
    "\n",
    "print(data_array_train_text.shape)\n",
    "print(data_array_test_text.shape)\n"
   ]
  },
  {
   "cell_type": "code",
   "execution_count": 182,
   "metadata": {
    "colab": {
     "base_uri": "https://localhost:8080/"
    },
    "id": "XbfIGDGFDrPn",
    "outputId": "72696c84-a215-438d-e531-596d5517c6f5"
   },
   "outputs": [
    {
     "name": "stdout",
     "output_type": "stream",
     "text": [
      "[[0.         0.         0.         ... 0.81467874 0.         1.        ]\n",
      " [0.         0.         0.         ... 0.30712995 0.         1.        ]\n",
      " [0.         0.         0.         ... 0.29355389 0.         0.        ]\n",
      " ...\n",
      " [1.         0.1025641  0.         ... 0.0044743  0.95       1.        ]\n",
      " [1.         0.19711538 1.         ... 0.00309355 0.71       1.        ]\n",
      " [1.         0.3482906  0.         ... 0.03463149 0.48       1.        ]]\n"
     ]
    }
   ],
   "source": [
    "print(data_array_train_num)"
   ]
  },
  {
   "cell_type": "code",
   "execution_count": 183,
   "metadata": {
    "colab": {
     "base_uri": "https://localhost:8080/"
    },
    "id": "hT_1wxau6zNW",
    "outputId": "ffbde1a4-db23-46f6-f0b8-3372a5a72437"
   },
   "outputs": [
    {
     "name": "stdout",
     "output_type": "stream",
     "text": [
      "(10088, 5)\n",
      "(2474, 5)\n"
     ]
    }
   ],
   "source": [
    "\n",
    "data_array_train_text.resize(x_text[0], x_text[2])\n",
    "data_array_test_text.resize(y_text[0], y_text[2])\n",
    "\n",
    "\n",
    "print(data_array_train_text.shape)\n",
    "print(data_array_test_text.shape)\n"
   ]
  },
  {
   "cell_type": "code",
   "execution_count": 184,
   "metadata": {
    "colab": {
     "base_uri": "https://localhost:8080/"
    },
    "id": "rXY5L5Lg67bJ",
    "outputId": "faf7ac6a-460b-4f6f-c324-a865971cd958"
   },
   "outputs": [
    {
     "name": "stdout",
     "output_type": "stream",
     "text": [
      "(10088, 15)\n",
      "(2474, 15)\n",
      "(10088, 1)\n",
      "(2474, 1)\n"
     ]
    }
   ],
   "source": [
    "features_train = np.concatenate((data_array_train_text, data_array_train_num), axis=1)\n",
    "features_test = np.concatenate((data_array_test_text, data_array_test_num), axis=1)\n",
    "\n",
    "print(features_train.shape)\n",
    "print(features_test.shape)\n",
    "\n",
    "label_train = np.array(train_df.select(\"trust\").collect())\n",
    "label_test = np.array(test_df.select(\"trust\").collect())\n",
    "\n",
    "\n",
    "print(label_train.shape)\n",
    "print(label_test.shape)\n",
    "\n",
    "\n",
    "train_np = np.concatenate((label_train, features_train), axis=1)\n",
    "test_np = np.concatenate((label_test, features_test), axis=1)\n"
   ]
  },
  {
   "cell_type": "code",
   "execution_count": 185,
   "metadata": {
    "colab": {
     "base_uri": "https://localhost:8080/"
    },
    "id": "dBisVIwW67dl",
    "outputId": "3a283e1b-c496-48d5-9034-0af7cb6bbb40"
   },
   "outputs": [
    {
     "name": "stdout",
     "output_type": "stream",
     "text": [
      "(10088, 16)\n",
      "(2474, 16)\n"
     ]
    }
   ],
   "source": [
    "print(train_np.shape)\n",
    "print(test_np.shape)\n",
    "# convert numpy array to data frame \n",
    "# and add to train_df and test_df\n",
    "# import pandas as pd \n",
    "# print('------------------------------------------')\n",
    "from pyspark.ml.linalg import Vectors\n",
    "train_df_pre = map(lambda x: (int(x[0]), Vectors.dense(x[1:])), train_np)\n",
    "train_df_final = spark.createDataFrame(train_df_pre, schema=[\"label\", \"features\"])\n",
    "\n",
    "test_df_pre = map(lambda x: (int(x[0]), Vectors.dense(x[1:])), test_np)\n",
    "test_df_final = spark.createDataFrame(test_df_pre, schema=[\"label\", \"features\"])\n"
   ]
  },
  {
   "cell_type": "code",
   "execution_count": 186,
   "metadata": {
    "colab": {
     "base_uri": "https://localhost:8080/"
    },
    "id": "nNRw5Ap2FfyU",
    "outputId": "72e6a549-f57d-4959-bf4c-79e182299826"
   },
   "outputs": [
    {
     "data": {
      "text/plain": [
       "DataFrame[label: bigint, features: vector]"
      ]
     },
     "execution_count": 186,
     "metadata": {},
     "output_type": "execute_result"
    }
   ],
   "source": [
    "train_df_final"
   ]
  },
  {
   "cell_type": "code",
   "execution_count": 187,
   "metadata": {
    "colab": {
     "base_uri": "https://localhost:8080/"
    },
    "id": "xAnggmmeIMLP",
    "outputId": "2f0b32d1-46ab-42f1-e787-9fddcee781d4"
   },
   "outputs": [
    {
     "name": "stdout",
     "output_type": "stream",
     "text": [
      "+-----+--------------------+\n",
      "|label|            features|\n",
      "+-----+--------------------+\n",
      "|    0|[-0.0029271449893...|\n",
      "|    0|[-0.0152293462306...|\n",
      "|    0|[0.08918498549610...|\n",
      "|    0|[-0.0633669737726...|\n",
      "|    0|[-0.0930243059992...|\n",
      "+-----+--------------------+\n",
      "only showing top 5 rows\n",
      "\n"
     ]
    }
   ],
   "source": [
    "test_df_final.show(5)"
   ]
  },
  {
   "cell_type": "code",
   "execution_count": 188,
   "metadata": {
    "colab": {
     "base_uri": "https://localhost:8080/"
    },
    "id": "6IDP5qnAIUbo",
    "outputId": "b748ca7d-5664-42a3-edeb-b465f24e79cc"
   },
   "outputs": [
    {
     "name": "stdout",
     "output_type": "stream",
     "text": [
      "+-----+--------------------+\n",
      "|label|            features|\n",
      "+-----+--------------------+\n",
      "|    0|[-0.0701545627255...|\n",
      "|    0|[-0.0597543617089...|\n",
      "|    0|[-0.1862397529184...|\n",
      "|    0|[-0.0489047524053...|\n",
      "|    0|[-0.0089826285839...|\n",
      "|    0|[-0.1509825497865...|\n",
      "|    0|[0.01430998295545...|\n",
      "|    0|[0.01389714516699...|\n",
      "|    0|[-0.0065002058981...|\n",
      "|    0|[-0.4396339226514...|\n",
      "|    0|[-0.1012028406063...|\n",
      "|    0|[-0.2147730216383...|\n",
      "|    0|[0.11754906177520...|\n",
      "|    0|[0.03154478718837...|\n",
      "|    0|[-0.3695423478881...|\n",
      "|    0|[-0.0694851167500...|\n",
      "|    0|[0.12660136965236...|\n",
      "|    0|[-0.0613030387709...|\n",
      "|    0|[-0.1972733300179...|\n",
      "|    0|[-0.0693318744500...|\n",
      "+-----+--------------------+\n",
      "only showing top 20 rows\n",
      "\n"
     ]
    }
   ],
   "source": [
    "train_df_final.show(20)"
   ]
  },
  {
   "cell_type": "code",
   "execution_count": 189,
   "metadata": {
    "id": "bs6pvYxZKq2C"
   },
   "outputs": [],
   "source": [
    "np_array_train_ft =  np.array(train_df_final.select(\"features\").collect())\n",
    "np_array_test_ft =  np.array(test_df_final.select(\"features\").collect())"
   ]
  },
  {
   "cell_type": "code",
   "execution_count": 190,
   "metadata": {
    "id": "It-11BM1NIUn"
   },
   "outputs": [],
   "source": [
    "np_array_train_label =  np.array(train_df_final.select(\"label\").collect())\n",
    "np_array_test_label =  np.array(test_df_final.select(\"label\").collect())"
   ]
  },
  {
   "cell_type": "code",
   "execution_count": 191,
   "metadata": {
    "id": "f3R0I7idNSTL"
   },
   "outputs": [],
   "source": [
    "np_shape_test = np_array_test_ft.shape"
   ]
  },
  {
   "cell_type": "code",
   "execution_count": 192,
   "metadata": {
    "id": "1bbkJS41Nawm"
   },
   "outputs": [],
   "source": [
    "np_shape_train = np_array_train_ft.shape"
   ]
  },
  {
   "cell_type": "code",
   "execution_count": 193,
   "metadata": {
    "id": "Jn2qLjlPObQx"
   },
   "outputs": [],
   "source": [
    "np_array_train_ft.resize(np_shape_train[0], np_shape_train[2])\n",
    "np_array_test_ft.resize(np_shape_test[0], np_shape_train[2])\n"
   ]
  },
  {
   "cell_type": "code",
   "execution_count": 194,
   "metadata": {
    "colab": {
     "base_uri": "https://localhost:8080/"
    },
    "id": "bqVqOfd-PgEV",
    "outputId": "33079f43-3a74-4a2a-d712-8f827a9aac6f"
   },
   "outputs": [
    {
     "data": {
      "text/plain": [
       "(10088, 15)"
      ]
     },
     "execution_count": 194,
     "metadata": {},
     "output_type": "execute_result"
    }
   ],
   "source": [
    "np_array_train_ft.shape"
   ]
  },
  {
   "cell_type": "code",
   "execution_count": 195,
   "metadata": {
    "colab": {
     "base_uri": "https://localhost:8080/"
    },
    "id": "k5t9lu7jPYtY",
    "outputId": "80354866-54b4-42c0-9f17-fba81e122a46"
   },
   "outputs": [
    {
     "data": {
      "text/plain": [
       "(10088, 1)"
      ]
     },
     "execution_count": 195,
     "metadata": {},
     "output_type": "execute_result"
    }
   ],
   "source": [
    "np_array_train_label.shape"
   ]
  },
  {
   "cell_type": "code",
   "execution_count": 196,
   "metadata": {},
   "outputs": [
    {
     "name": "stdout",
     "output_type": "stream",
     "text": [
      "Collecting sklearn\n",
      "  Downloading https://files.pythonhosted.org/packages/1e/7a/dbb3be0ce9bd5c8b7e3d87328e79063f8b263b2b1bfa4774cb1147bfcd3f/sklearn-0.0.tar.gz\n",
      "Collecting scikit-learn (from sklearn)\n",
      "\u001b[?25l  Downloading https://files.pythonhosted.org/packages/f4/cb/64623369f348e9bfb29ff898a57ac7c91ed4921f228e9726546614d63ccb/scikit_learn-0.23.2-cp37-cp37m-manylinux1_x86_64.whl (6.8MB)\n",
      "\u001b[K    100% |████████████████████████████████| 6.8MB 159kB/s ta 0:00:01\n",
      "\u001b[?25hCollecting joblib>=0.11 (from scikit-learn->sklearn)\n",
      "\u001b[?25l  Downloading https://files.pythonhosted.org/packages/34/5b/bd0f0fb5564183884d8e35b81d06d7ec06a20d1a0c8b4c407f1554691dce/joblib-1.0.0-py3-none-any.whl (302kB)\n",
      "\u001b[K    100% |████████████████████████████████| 307kB 852kB/s ta 0:00:01\n",
      "\u001b[?25hCollecting threadpoolctl>=2.0.0 (from scikit-learn->sklearn)\n",
      "  Downloading https://files.pythonhosted.org/packages/f7/12/ec3f2e203afa394a149911729357aa48affc59c20e2c1c8297a60f33f133/threadpoolctl-2.1.0-py3-none-any.whl\n",
      "Requirement already satisfied: numpy>=1.13.3 in /usr/local/lib/python3.7/dist-packages (from scikit-learn->sklearn) (1.19.4)\n",
      "Requirement already satisfied: scipy>=0.19.1 in /usr/local/lib/python3.7/dist-packages (from scikit-learn->sklearn) (1.5.4)\n",
      "Building wheels for collected packages: sklearn\n",
      "  Running setup.py bdist_wheel for sklearn ... \u001b[?25ldone\n",
      "\u001b[?25h  Stored in directory: /root/.cache/pip/wheels/76/03/bb/589d421d27431bcd2c6da284d5f2286c8e3b2ea3cf1594c074\n",
      "Successfully built sklearn\n",
      "Installing collected packages: joblib, threadpoolctl, scikit-learn, sklearn\n",
      "Successfully installed joblib-1.0.0 scikit-learn-0.23.2 sklearn-0.0 threadpoolctl-2.1.0\n"
     ]
    }
   ],
   "source": [
    "!pip3 install sklearn"
   ]
  },
  {
   "cell_type": "code",
   "execution_count": 197,
   "metadata": {
    "id": "PyfkN_a_OIO_"
   },
   "outputs": [],
   "source": [
    "# import important packages\n",
    "import numpy as np\n",
    "import pandas as pd\n",
    "import matplotlib.pyplot as plt\n",
    "import seaborn as sns\n",
    "\n",
    "%matplotlib inline\n",
    "\n",
    "from sklearn.model_selection import train_test_split\n",
    "from sklearn.ensemble import RandomForestClassifier\n",
    "from sklearn.metrics import accuracy_score\n",
    "from sklearn.preprocessing import StandardScaler, MinMaxScaler\n",
    "# import pandas_profiling"
   ]
  },
  {
   "cell_type": "code",
   "execution_count": 198,
   "metadata": {
    "colab": {
     "base_uri": "https://localhost:8080/"
    },
    "id": "dfa-auNeNqgH",
    "outputId": "e76b6187-f1d5-472d-9fea-fdbaf6b885be"
   },
   "outputs": [
    {
     "name": "stderr",
     "output_type": "stream",
     "text": [
      "/usr/local/lib/python3.7/dist-packages/ipykernel_launcher.py:4: DataConversionWarning: A column-vector y was passed when a 1d array was expected. Please change the shape of y to (n_samples,), for example using ravel().\n",
      "  after removing the cwd from sys.path.\n"
     ]
    },
    {
     "data": {
      "text/plain": [
       "RandomForestClassifier()"
      ]
     },
     "execution_count": 198,
     "metadata": {},
     "output_type": "execute_result"
    }
   ],
   "source": [
    "classifier = RandomForestClassifier()\n",
    "\n",
    "# Train the model using the training sets\n",
    "classifier.fit(np_array_train_ft, np_array_train_label)"
   ]
  },
  {
   "cell_type": "code",
   "execution_count": 199,
   "metadata": {
    "id": "SMq6DGVYQCa0"
   },
   "outputs": [],
   "source": [
    "y_pred = classifier.predict(np_array_test_ft)"
   ]
  },
  {
   "cell_type": "code",
   "execution_count": 200,
   "metadata": {
    "colab": {
     "base_uri": "https://localhost:8080/"
    },
    "id": "y5MvuRRePoR8",
    "outputId": "2515cc2a-6075-4861-c174-60ba945a1d0a"
   },
   "outputs": [
    {
     "name": "stdout",
     "output_type": "stream",
     "text": [
      "Accuracy: 0.9919159256265158\n"
     ]
    }
   ],
   "source": [
    "print(\"Accuracy:\", accuracy_score(np_array_test_label, y_pred))"
   ]
  },
  {
   "cell_type": "code",
   "execution_count": 201,
   "metadata": {
    "colab": {
     "base_uri": "https://localhost:8080/"
    },
    "id": "g67OB_fyLBsx",
    "outputId": "7b685533-a5b0-43df-98dc-e616a6249669"
   },
   "outputs": [
    {
     "name": "stdout",
     "output_type": "stream",
     "text": [
      "+-----+--------------------+\n",
      "|label|            features|\n",
      "+-----+--------------------+\n",
      "|    0|[-0.0701545627255...|\n",
      "|    0|[-0.0597543617089...|\n",
      "|    0|[-0.1862397529184...|\n",
      "|    0|[-0.0489047524053...|\n",
      "|    0|[-0.0089826285839...|\n",
      "|    0|[-0.1509825497865...|\n",
      "|    0|[0.01430998295545...|\n",
      "|    0|[0.01389714516699...|\n",
      "|    0|[-0.0065002058981...|\n",
      "|    0|[-0.4396339226514...|\n",
      "|    0|[-0.1012028406063...|\n",
      "|    0|[-0.2147730216383...|\n",
      "|    0|[0.11754906177520...|\n",
      "|    0|[0.03154478718837...|\n",
      "|    0|[-0.3695423478881...|\n",
      "|    0|[-0.0694851167500...|\n",
      "|    0|[0.12660136965236...|\n",
      "|    0|[-0.0613030387709...|\n",
      "|    0|[-0.1972733300179...|\n",
      "|    0|[-0.0693318744500...|\n",
      "+-----+--------------------+\n",
      "only showing top 20 rows\n",
      "\n"
     ]
    }
   ],
   "source": [
    "train_df_final.show(20)"
   ]
  },
  {
   "cell_type": "code",
   "execution_count": 202,
   "metadata": {
    "id": "a4Jxf69f9R18"
   },
   "outputs": [],
   "source": [
    "spark.stop()\n",
    "sc.stop()"
   ]
  },
  {
   "cell_type": "code",
   "execution_count": null,
   "metadata": {
    "id": "-lK82YhudmLY"
   },
   "outputs": [],
   "source": []
  }
 ],
 "metadata": {
  "accelerator": "GPU",
  "colab": {
   "collapsed_sections": [],
   "name": "bigdata_refine.ipynb",
   "provenance": []
  },
  "kernelspec": {
   "display_name": "Python 3",
   "language": "python",
   "name": "python3"
  },
  "language_info": {
   "codemirror_mode": {
    "name": "ipython",
    "version": 3
   },
   "file_extension": ".py",
   "mimetype": "text/x-python",
   "name": "python",
   "nbconvert_exporter": "python",
   "pygments_lexer": "ipython3",
   "version": "3.7.3"
  }
 },
 "nbformat": 4,
 "nbformat_minor": 4
}
